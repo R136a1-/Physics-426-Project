{
 "cells": [
  {
   "cell_type": "code",
   "execution_count": null,
   "metadata": {
    "collapsed": false
   },
   "outputs": [],
   "source": [
    "import sympy\n",
    "from sympy.physics import vector\n",
    "from IPython.display import display\n",
    "\n",
    "sympy.init_printing(use_latex=\"mathjax\")"
   ]
  },
  {
   "cell_type": "code",
   "execution_count": null,
   "metadata": {
    "collapsed": false
   },
   "outputs": [],
   "source": [
    "N = vector.ReferenceFrame(\"N\")\n",
    "A, m, k, t, t_0, sigma_0, dv = sympy.symbols(\"A m k t t_0 \\\\sigma_0, {\\\\Delta}v\", real=True, positive=True)\n",
    "M0, M1_x, M1_y, M2, v_x, v_y, vx_0, vy_0 = sympy.symbols(\"M_0 M_{1_x} M_{1_y} M_2 v_x v_y v_{x_0} v_{y_0}\", real=True)\n",
    "v = v_x*N.x + v_y*N.y\n",
    "v_0 = vx_0*N.x + vy_0*N.y\n",
    "M1 = M1_x*N.x + M1_y*N.y\n",
    "sigma = A*sympy.exp(-m*vector.dot(v - v_0, v - v_0)/(2*k*(t_0 + t)))\n",
    "\n",
    "def eval_at_zero(expression):\n",
    "    return expression.subs(vx_0, 0.0).subs(vy_0, 0.0).subs(t, 0.0)\n",
    "\n",
    "def taylor(expression, variables = [t, vx_0, vy_0]):\n",
    "    expansion = sympy.simplify(eval_at_zero(expression)/eval_at_zero(expression))\n",
    "    for var in variables:\n",
    "        expansion = expansion + sympy.simplify(eval_at_zero(sympy.diff(expression, var))*var/eval_at_zero(expression))\n",
    "        \n",
    "#    for var1 in variables:\n",
    "#        for var2 in variables:\n",
    "#            expansion = expansion + sympy.simplify(eval_at_zero(sympy.diff(sympy.diff(expression, var1), var2))*var1*var2/(2*eval_at_zero(expression)))\n",
    "    return expansion*eval_at_zero(expression)\n",
    "\n",
    "def zeroeth_moments(expression, vrange=[-dv, 0.0, dv]):\n",
    "    moment = m -m\n",
    "    for vx in vrange:\n",
    "        for vy in vrange:\n",
    "            moment = moment + (expression).subs(v_x, vx).subs(v_y, vy)\n",
    "    return sympy.simplify(moment)\n",
    " \n",
    "def first_moments(expression, vrange=[-dv, 0.0, dv]):\n",
    "    moment = v - v\n",
    "    for vx in vrange:\n",
    "        for vy in vrange:\n",
    "            moment = moment + (v*expression).subs(v_x, vx).subs(v_y, vy)\n",
    "    return moment.simplify()\n",
    "\n",
    "def second_moments(expression, vrange=[-dv, 0.0, dv]):\n",
    "    moment = m - m\n",
    "    for vx in vrange:\n",
    "        for vy in vrange:\n",
    "            moment = moment + (vector.dot(v, v)*expression).subs(v_x, vx).subs(v_y, vy)\n",
    "    return sympy.simplify(moment)\n",
    "\n",
    "def simp(expression):\n",
    "    return sympy.simplify(sympy.powsimp(sympy.collect(sympy.collect(expression, M2), dv**2)))"
   ]
  },
  {
   "cell_type": "code",
   "execution_count": null,
   "metadata": {
    "collapsed": false
   },
   "outputs": [],
   "source": [
    "sigma\n",
    "#eval_at_zero( sigma)"
   ]
  },
  {
   "cell_type": "code",
   "execution_count": null,
   "metadata": {
    "collapsed": false
   },
   "outputs": [],
   "source": [
    "linearization = taylor(sigma)\n",
    "linearization"
   ]
  },
  {
   "cell_type": "code",
   "execution_count": null,
   "metadata": {
    "collapsed": false
   },
   "outputs": [],
   "source": [
    "zmoment = zeroeth_moments(linearization) - M0\n",
    "zmoment"
   ]
  },
  {
   "cell_type": "code",
   "execution_count": null,
   "metadata": {
    "collapsed": false,
    "scrolled": true
   },
   "outputs": [],
   "source": [
    "fmoment = first_moments(linearization) - M1\n",
    "fmoment"
   ]
  },
  {
   "cell_type": "code",
   "execution_count": null,
   "metadata": {
    "collapsed": false
   },
   "outputs": [],
   "source": [
    "smoment = second_moments(linearization) - M2\n",
    "smoment"
   ]
  },
  {
   "cell_type": "code",
   "execution_count": null,
   "metadata": {
    "collapsed": false
   },
   "outputs": [],
   "source": [
    "System_solution = sympy.solve([zmoment, fmoment.dot(N.x), fmoment.dot(N.y), smoment], (A, v_0.dot(N.x), v_0.dot(N.y), t), dict=True)\n",
    "Asol, vxsol, vysol, tsol = System_solution[0][A], System_solution[0][v_0.dot(N.x)], System_solution[0][v_0.dot(N.y)], System_solution[0][t]"
   ]
  },
  {
   "cell_type": "code",
   "execution_count": null,
   "metadata": {
    "collapsed": false,
    "scrolled": false
   },
   "outputs": [],
   "source": [
    "display(sympy.Eq(A, simp(Asol)))\n",
    "display(sympy.Eq(v_0.dot(N.x), simp(vxsol)))\n",
    "display(sympy.Eq(v_0.dot(N.y), simp(vysol)))\n",
    "display(sympy.Eq(t, simp(tsol)))\n",
    "display(sympy.Eq(sigma_0,linearization))"
   ]
  },
  {
   "cell_type": "code",
   "execution_count": null,
   "metadata": {
    "collapsed": false
   },
   "outputs": [],
   "source": [
    "print(\"Checking solutions, if all moment relations equal zero the solutions found are valid\")\n",
    "display(sympy.simplify(zmoment.subs(A, Asol).subs(t, tsol).subs(v_0.dot(N.x), vxsol).subs(v_0.dot(N.y), vysol)))\n",
    "display(sympy.simplify(fmoment.dot(N.x).subs(A, Asol).subs(t, tsol).subs(v_0.dot(N.x), vxsol).subs(v_0.dot(N.y), vysol)))\n",
    "display(sympy.simplify(fmoment.dot(N.y).subs(A, Asol).subs(t, tsol).subs(v_0.dot(N.x), vxsol).subs(v_0.dot(N.y), vysol)))\n",
    "display(sympy.simplify(smoment.subs(A, Asol).subs(t, tsol).subs(v_0.dot(N.x), vxsol).subs(v_0.dot(N.y), vysol)))"
   ]
  },
  {
   "cell_type": "markdown",
   "metadata": {},
   "source": [
    "## Defining precomputable constants ##"
   ]
  },
  {
   "cell_type": "code",
   "execution_count": null,
   "metadata": {
    "collapsed": false,
    "scrolled": false
   },
   "outputs": [],
   "source": [
    "e0 = sympy.exp(-m*dv**2/(2*k*t_0))\n",
    "\n",
    "a0 = -(1+2*e0)/(dv**2*(1+4*e0+4*e0**2))\n",
    "a1 = (1+4*e0)/(1+4*e0+4*e0**2)\n",
    "\n",
    "b0 = k*t_0*(1/e0+4+4*e0)/(2*m)\n",
    "b1 = -(1+4*e0+4*e0**2)\n",
    "b2 = dv**2*(1 + 6*e0 + 8*e0**2)\n",
    "\n",
    "c0=-(k*t_0**2)/(2*m*dv**2)\n",
    "c1 = -(1/e0 + 12 + 60*e0 + 160*e0**2 + 240*e0**3 + 192*e0**4 + 64*e0**5)\n",
    "c2 = 4*dv**2*(1 + 10*e0 + 40*e0**2 + 80*e0**3 + 80*e0**4 + 32*e0**5)\n",
    "c3 = -(1 + 10*e0 + 40*e0**2 + 80*e0**3 + 80*e0**4 + 32*e0**5)\n",
    "c4 = dv**2*(1 + 12*e0 + 56*e0**2 + 128*e0**3 + 144*e0**4 + 64*e0**5)\n",
    "\n",
    "Asol2 = a0*M2 + a1*M0\n",
    "vxsol2 = b0*M1_x/(b1*M2+b2*M0)\n",
    "vysol2 = b0*M1_y/(b1*M2+b2*M0)\n",
    "tsol2 = c0*(c1*M2+c2*M0)/(c3*M2+c4*M0)\n",
    "\n",
    "print(\"Checking that the simplifyied constants also solve the moments\")\n",
    "display(sympy.simplify(zmoment.subs(A, Asol2).subs(t, tsol2).subs(v_0.dot(N.x), vxsol2).subs(v_0.dot(N.y), vysol2)))\n",
    "display(sympy.simplify(fmoment.dot(N.x).subs(A, Asol2).subs(t, tsol2).subs(v_0.dot(N.x), vxsol2).subs(v_0.dot(N.y), vysol2)))\n",
    "display(sympy.simplify(fmoment.dot(N.y).subs(A, Asol2).subs(t, tsol2).subs(v_0.dot(N.x), vxsol2).subs(v_0.dot(N.y), vysol2)))\n",
    "display(sympy.simplify(smoment.subs(A, Asol2).subs(t, tsol2).subs(v_0.dot(N.x), vxsol2).subs(v_0.dot(N.y), vysol2)))"
   ]
  },
  {
   "cell_type": "markdown",
   "metadata": {},
   "source": [
    "## Solution to linearization of gausian distribution in 2D ##\n",
    "\n",
    "Simplifying the solution using the precomputed factors, $e_0 = e^{-\\frac{m{\\Delta v}^2}{2kt_0}}$, $a_0 =-\\frac{1 + 2e_0}{{\\Delta v}^2\\left(1 + 4e_0 + 4{e_0}^2\\right)}$, $a_1 = \\frac{\\left(1 + 4e_0\\right)}{\\left(1 + 4e_0 + 4{e_0}^2\\right)}$\n",
    "\n",
    "$b_0 = \\frac{kt_0\\left({e_0}^{-1} + 4 + 4e_0\\right)}{2m}$, $b_1 = -\\left(1 + 4e_0 + 4{e_0}^2\\right)$, $b_2 = {\\Delta v}^2\\left(1 + 6e_0 + 8{e_0}^2\\right)$\n",
    "\n",
    "$c_0 = -\\frac{k{t_0}^2}{2m{\\Delta v}^2}$, $c_1 = -\\left({e_0}^{-1} + 12 + 60e_0 + 160{e_0}^2 + 240{e_0}^3 + 192{e_0}^4 + 64{e_0}^5\\right)$, $c_2 = 4{\\Delta v}^2\\left(1 + 10e_0 + 40{e_0}^2 + 80{e_0}^3 + 80{e_0}^4 + 32{e_0}^5\\right)$, $c_3 = -\\left(1 + 10e_0 + 40{e_0}^2 + 80{e_0}^3 + 80{e_0}^4 + 32{e_0}^5\\right)$, $c_4 = {\\Delta v}^2\\left(1 + 12e_0 + 56{e_0}^2 + 128{e_0}^3 + 144{e_0}^4 + 64{e_0}^5\\right)$\n",
    "\n",
    "The moments of the distribution,\n",
    "\n",
    "$$M_0 = \\sum_{i=-1}^1\\sum_{j=-1}^1 \\sigma(\\Delta v i, \\Delta v j)$$\n",
    "\n",
    "$$M_1 = \\sum_{i=-1}^1\\sum_{j=-1}^1 \\Delta v (i \\hat{x} + j \\hat{y})\\sigma(\\Delta v i, \\Delta v j)$$\n",
    "\n",
    "$$M_2 = \\sum_{i=-1}^1\\sum_{j=-1}^1 {\\Delta v}^2(i^2 + j^2)\\sigma(\\Delta v i, \\Delta v j)$$\n",
    "\n",
    "Using the precomputed values the equations for the distribution parameters simplify to,\n",
    "\n",
    "$$A = a_0 M_2 + a_1 M_0$$\n",
    "\n",
    "$$v_{x_0} = \\frac{b_0 M_{1_x}}{b_1 M_2 + b_2 M_0}$$\n",
    "\n",
    "$$v_{y_0} = \\frac{b_0 M_{1_y}}{b_1 M_2 + b_2 M_0}$$\n",
    "\n",
    "$$t = c_0 \\frac{c_1 M_2 + c_2 M_0}{c_3 M_2 + c_4 M_0}$$\n",
    "\n",
    "$$\\sigma_0 = A\\left(1 - \\frac{m\\vec{v}\\cdot\\vec{v}_0}{kt_0} + \\frac{m \\vec{v}\\cdot\\vec{v}}{2kt_0}\\frac{t}{t_0}\\right)e^{\\frac{m\\vec{v}\\cdot\\vec{v}}{2kt_0}}$$\n",
    "\n",
    "Using this definition the first three moments of $\\sigma$ are conserved when computing $\\sigma_0$."
   ]
  },
  {
   "cell_type": "code",
   "execution_count": null,
   "metadata": {
    "collapsed": true
   },
   "outputs": [],
   "source": []
  }
 ],
 "metadata": {
  "kernelspec": {
   "display_name": "Python 3",
   "language": "python",
   "name": "python3"
  },
  "language_info": {
   "codemirror_mode": {
    "name": "ipython",
    "version": 3
   },
   "file_extension": ".py",
   "mimetype": "text/x-python",
   "name": "python",
   "nbconvert_exporter": "python",
   "pygments_lexer": "ipython3",
   "version": "3.4.2"
  }
 },
 "nbformat": 4,
 "nbformat_minor": 0
}
