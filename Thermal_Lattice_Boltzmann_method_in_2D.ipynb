{
 "cells": [
  {
   "cell_type": "code",
   "execution_count": 55,
   "metadata": {
    "collapsed": false
   },
   "outputs": [],
   "source": [
    "import sympy\n",
    "from sympy.physics import vector\n",
    "from IPython.display import display\n",
    "\n",
    "sympy.init_printing(use_latex=\"mathjax\")"
   ]
  },
  {
   "cell_type": "code",
   "execution_count": 56,
   "metadata": {
    "collapsed": false
   },
   "outputs": [],
   "source": [
    "N = vector.ReferenceFrame(\"N\")\n",
    "A, m, k, t, t_0, sigma_0, dv = sympy.symbols(\"A m k t t_0 \\\\sigma_0, {\\\\Delta}v\", real=True, positive=True)\n",
    "M0, M1_x, M1_y, M2, v_x, v_y, vx_0, vy_0 = sympy.symbols(\"M_0 M_{1_x} M_{1_y} M_2 v_x v_y v_{x_0} v_{y_0}\", real=True)\n",
    "v = v_x*N.x + v_y*N.y\n",
    "v_0 = vx_0*N.x + vy_0*N.y\n",
    "M1 = M1_x*N.x + M1_y*N.y\n",
    "sigma = A*sympy.exp(-m*vector.dot(v - v_0, v - v_0)/(2*k*(t_0 + t)))\n",
    "\n",
    "def eval_at_zero(expression):\n",
    "    return expression.subs(vx_0, 0.0).subs(vy_0, 0.0).subs(t, 0.0)\n",
    "\n",
    "def taylor(expression, variables = [t, vx_0, vy_0]):\n",
    "    expansion = sympy.simplify(eval_at_zero(expression)/eval_at_zero(expression))\n",
    "    for var in variables:\n",
    "        expansion = expansion + sympy.simplify(eval_at_zero(sympy.diff(expression, var))*var/eval_at_zero(expression))\n",
    "        \n",
    "#    for var1 in variables:\n",
    "#        for var2 in variables:\n",
    "#            expansion = expansion + sympy.simplify(eval_at_zero(sympy.diff(sympy.diff(expression, var1), var2))*var1*var2/(2*eval_at_zero(expression)))\n",
    "    return expansion*eval_at_zero(expression)\n",
    "\n",
    "def zeroeth_moments(expression, vrange=[-dv, 0.0, dv]):\n",
    "    moment = m -m\n",
    "    for vx in vrange:\n",
    "        for vy in vrange:\n",
    "            moment = moment + (expression).subs(v_x, vx).subs(v_y, vy)\n",
    "    return sympy.simplify(moment)\n",
    " \n",
    "def first_moments(expression, vrange=[-dv, 0.0, dv]):\n",
    "    moment = v - v\n",
    "    for vx in vrange:\n",
    "        for vy in vrange:\n",
    "            moment = moment + (v*expression).subs(v_x, vx).subs(v_y, vy)\n",
    "    return moment.simplify()\n",
    "\n",
    "def second_moments(expression, vrange=[-dv, 0.0, dv]):\n",
    "    moment = m - m\n",
    "    for vx in vrange:\n",
    "        for vy in vrange:\n",
    "            moment = moment + (vector.dot(v, v)*expression).subs(v_x, vx).subs(v_y, vy)\n",
    "    return sympy.simplify(moment)\n",
    "\n",
    "def simp(expression):\n",
    "    return sympy.simplify(sympy.powsimp(sympy.collect(sympy.collect(expression, M2), dv**2)))"
   ]
  },
  {
   "cell_type": "code",
   "execution_count": 57,
   "metadata": {
    "collapsed": false
   },
   "outputs": [
    {
     "data": {
      "text/latex": [
       "$$A e^{- \\frac{m \\left(\\left(v_{x} - v_{x_0}\\right)^{2} + \\left(v_{y} - v_{y_0}\\right)^{2}\\right)}{2 k \\left(t + t_{0}\\right)}}$$"
      ],
      "text/plain": [
       "      ⎛              2                  2⎞ \n",
       "   -m⋅⎝(vₓ - v_{x_0})  + (v_y - v_{y_0}) ⎠ \n",
       "   ────────────────────────────────────────\n",
       "                 2⋅k⋅(t + t₀)              \n",
       "A⋅ℯ                                        "
      ]
     },
     "execution_count": 57,
     "metadata": {},
     "output_type": "execute_result"
    }
   ],
   "source": [
    "sigma\n",
    "#eval_at_zero( sigma)"
   ]
  },
  {
   "cell_type": "code",
   "execution_count": 58,
   "metadata": {
    "collapsed": false
   },
   "outputs": [
    {
     "data": {
      "text/latex": [
       "$$A \\left(1 + \\frac{m t \\left(v_{x}^{2} + v_{y}^{2}\\right)}{2 k t_{0}^{2}} + \\frac{m v_{x} v_{x_0}}{k t_{0}} + \\frac{m v_{y} v_{y_0}}{k t_{0}}\\right) e^{- \\frac{m \\left(v_{x}^{2} + v_{y}^{2}\\right)}{2 k t_{0}}}$$"
      ],
      "text/plain": [
       "                                                            ⎛  2      2⎞ \n",
       "                                                         -m⋅⎝vₓ  + v_y ⎠ \n",
       "  ⎛        ⎛  2      2⎞                               ⎞  ────────────────\n",
       "  ⎜    m⋅t⋅⎝vₓ  + v_y ⎠   m⋅vₓ⋅v_{x_0}   m⋅v_y⋅v_{y_0}⎟       2⋅k⋅t₀     \n",
       "A⋅⎜1 + ──────────────── + ──────────── + ─────────────⎟⋅ℯ                \n",
       "  ⎜              2            k⋅t₀            k⋅t₀    ⎟                  \n",
       "  ⎝        2⋅k⋅t₀                                     ⎠                  "
      ]
     },
     "execution_count": 58,
     "metadata": {},
     "output_type": "execute_result"
    }
   ],
   "source": [
    "linearization = taylor(sigma)\n",
    "linearization"
   ]
  },
  {
   "cell_type": "code",
   "execution_count": 59,
   "metadata": {
    "collapsed": false
   },
   "outputs": [
    {
     "data": {
      "text/latex": [
       "$$A + \\frac{4 A}{e^{\\frac{m {\\Delta}v^{2}}{k t_{0}}}} + \\frac{4 A}{e^{\\frac{m {\\Delta}v^{2}}{2 k t_{0}}}} + \\frac{4 A m t {\\Delta}v^{2}}{k t_{0}^{2} e^{\\frac{m {\\Delta}v^{2}}{k t_{0}}}} + \\frac{2 A m t {\\Delta}v^{2}}{k t_{0}^{2} e^{\\frac{m {\\Delta}v^{2}}{2 k t_{0}}}} - M_{0}$$"
      ],
      "text/plain": [
       "                                                                              \n",
       "                     2                     2                        -m⋅{\\Delta\n",
       "         -m⋅{\\Delta}v          -m⋅{\\Delta}v                         ──────────\n",
       "         ──────────────        ──────────────                    2       k⋅t₀ \n",
       "              k⋅t₀                 2⋅k⋅t₀       4⋅A⋅m⋅t⋅{\\Delta}v ⋅ℯ          \n",
       "A + 4⋅A⋅ℯ               + 4⋅A⋅ℯ               + ──────────────────────────────\n",
       "                                                                  2           \n",
       "                                                              k⋅t₀            \n",
       "\n",
       "  2                                    2      \n",
       "}v                         -m⋅{\\Delta}v       \n",
       "────                       ──────────────     \n",
       "                        2      2⋅k⋅t₀         \n",
       "       2⋅A⋅m⋅t⋅{\\Delta}v ⋅ℯ                   \n",
       "──── + ────────────────────────────────── - M₀\n",
       "                         2                    \n",
       "                     k⋅t₀                     "
      ]
     },
     "execution_count": 59,
     "metadata": {},
     "output_type": "execute_result"
    }
   ],
   "source": [
    "zmoment = zeroeth_moments(linearization) - M0\n",
    "zmoment"
   ]
  },
  {
   "cell_type": "code",
   "execution_count": 60,
   "metadata": {
    "collapsed": false,
    "scrolled": true
   },
   "outputs": [
    {
     "data": {
      "text/latex": [
       "$$(\\frac{4 A m v_{x_0} {\\Delta}v^{2}}{k t_{0} e^{\\frac{m {\\Delta}v^{2}}{k t_{0}}}} + \\frac{2 A m v_{x_0} {\\Delta}v^{2}}{k t_{0} e^{\\frac{m {\\Delta}v^{2}}{2 k t_{0}}}} - M_{1_x})\\mathbf{\\hat{n}_x} + (\\frac{4 A m v_{y_0} {\\Delta}v^{2}}{k t_{0} e^{\\frac{m {\\Delta}v^{2}}{k t_{0}}}} + \\frac{2 A m v_{y_0} {\\Delta}v^{2}}{k t_{0} e^{\\frac{m {\\Delta}v^{2}}{2 k t_{0}}}} - M_{1_y})\\mathbf{\\hat{n}_y}$$"
      ],
      "text/plain": [
       "⎛                                      2                                          2           ⎞\n",
       "⎜                          -m⋅{\\Delta}v                               -m⋅{\\Delta}v            ⎟\n",
       "⎜                          ──────────────                             ──────────────          ⎟\n",
       "⎜                       2       k⋅t₀                               2      2⋅k⋅t₀              ⎟\n",
       "⎜4⋅A⋅m⋅v_{x_0}⋅{\\Delta}v ⋅ℯ                 2⋅A⋅m⋅v_{x_0}⋅{\\Delta}v ⋅ℯ                        ⎟\n",
       "⎜──────────────────────────────────────── + ──────────────────────────────────────── - M_{1_x}⎟\n",
       "⎝                  k⋅t₀                                       k⋅t₀                            ⎠ n_x + ⎛                                      2                                          2           ⎞\n",
       "⎜                          -m⋅{\\Delta}v                               -m⋅{\\Delta}v            ⎟\n",
       "⎜                          ──────────────                             ──────────────          ⎟\n",
       "⎜                       2       k⋅t₀                               2      2⋅k⋅t₀              ⎟\n",
       "⎜4⋅A⋅m⋅v_{y_0}⋅{\\Delta}v ⋅ℯ                 2⋅A⋅m⋅v_{y_0}⋅{\\Delta}v ⋅ℯ                        ⎟\n",
       "⎜──────────────────────────────────────── + ──────────────────────────────────────── - M_{1_y}⎟\n",
       "⎝                  k⋅t₀                                       k⋅t₀                            ⎠ n_y"
      ]
     },
     "execution_count": 60,
     "metadata": {},
     "output_type": "execute_result"
    }
   ],
   "source": [
    "fmoment = first_moments(linearization) - M1\n",
    "fmoment"
   ]
  },
  {
   "cell_type": "code",
   "execution_count": 61,
   "metadata": {
    "collapsed": false
   },
   "outputs": [
    {
     "data": {
      "text/latex": [
       "$$\\frac{8 A {\\Delta}v^{2}}{e^{\\frac{m {\\Delta}v^{2}}{k t_{0}}}} + \\frac{4 A {\\Delta}v^{2}}{e^{\\frac{m {\\Delta}v^{2}}{2 k t_{0}}}} + \\frac{8 A m t {\\Delta}v^{4}}{k t_{0}^{2} e^{\\frac{m {\\Delta}v^{2}}{k t_{0}}}} + \\frac{2 A m t {\\Delta}v^{4}}{k t_{0}^{2} e^{\\frac{m {\\Delta}v^{2}}{2 k t_{0}}}} - M_{2}$$"
      ],
      "text/plain": [
       "                                                                              \n",
       "                            2                                2                \n",
       "                -m⋅{\\Delta}v                     -m⋅{\\Delta}v                 \n",
       "                ──────────────                   ──────────────               \n",
       "             2       k⋅t₀                     2      2⋅k⋅t₀       8⋅A⋅m⋅t⋅{\\De\n",
       "8⋅A⋅{\\Delta}v ⋅ℯ               + 4⋅A⋅{\\Delta}v ⋅ℯ               + ────────────\n",
       "                                                                              \n",
       "                                                                              \n",
       "\n",
       "                    2                                    2      \n",
       "        -m⋅{\\Delta}v                         -m⋅{\\Delta}v       \n",
       "        ──────────────                       ──────────────     \n",
       "     4       k⋅t₀                         4      2⋅k⋅t₀         \n",
       "lta}v ⋅ℯ                 2⋅A⋅m⋅t⋅{\\Delta}v ⋅ℯ                   \n",
       "────────────────────── + ────────────────────────────────── - M₂\n",
       "      2                                    2                    \n",
       "  k⋅t₀                                 k⋅t₀                     "
      ]
     },
     "execution_count": 61,
     "metadata": {},
     "output_type": "execute_result"
    }
   ],
   "source": [
    "smoment = second_moments(linearization) - M2\n",
    "smoment"
   ]
  },
  {
   "cell_type": "code",
   "execution_count": 62,
   "metadata": {
    "collapsed": false
   },
   "outputs": [],
   "source": [
    "System_solution = sympy.solve([zmoment, fmoment.dot(N.x), fmoment.dot(N.y), smoment], (A, v_0.dot(N.x), v_0.dot(N.y), t), dict=True)\n",
    "Asol, vxsol, vysol, tsol = System_solution[0][A], System_solution[0][v_0.dot(N.x)], System_solution[0][v_0.dot(N.y)], System_solution[0][t]"
   ]
  },
  {
   "cell_type": "code",
   "execution_count": 65,
   "metadata": {
    "collapsed": false,
    "scrolled": false
   },
   "outputs": [
    {
     "data": {
      "text/latex": [
       "$$A = \\frac{M_{0} {\\Delta}v^{2} \\left(e^{\\frac{11 m {\\Delta}v^{2}}{2 k t_{0}}} + 4 e^{\\frac{5 m {\\Delta}v^{2}}{k t_{0}}}\\right) - M_{2} \\left(e^{\\frac{11 m {\\Delta}v^{2}}{2 k t_{0}}} + 2 e^{\\frac{5 m {\\Delta}v^{2}}{k t_{0}}}\\right)}{{\\Delta}v^{2} \\left(e^{\\frac{11 m {\\Delta}v^{2}}{2 k t_{0}}} + 4 e^{\\frac{9 m {\\Delta}v^{2}}{2 k t_{0}}} + 4 e^{\\frac{5 m {\\Delta}v^{2}}{k t_{0}}}\\right)}$$"
      ],
      "text/plain": [
       "                  ⎛               2                   2⎞      ⎛               \n",
       "                  ⎜ 11⋅m⋅{\\Delta}v       5⋅m⋅{\\Delta}v ⎟      ⎜ 11⋅m⋅{\\Delta}v\n",
       "                  ⎜ ───────────────      ──────────────⎟      ⎜ ──────────────\n",
       "                2 ⎜      2⋅k⋅t₀               k⋅t₀     ⎟      ⎜      2⋅k⋅t₀   \n",
       "    M₀⋅{\\Delta}v ⋅⎝ℯ                + 4⋅ℯ              ⎠ - M₂⋅⎝ℯ              \n",
       "A = ──────────────────────────────────────────────────────────────────────────\n",
       "                            ⎛               2                   2             \n",
       "                            ⎜ 11⋅m⋅{\\Delta}v       9⋅m⋅{\\Delta}v       5⋅m⋅{\\D\n",
       "                            ⎜ ───────────────      ──────────────      ───────\n",
       "                          2 ⎜      2⋅k⋅t₀              2⋅k⋅t₀               k⋅\n",
       "                 {\\Delta}v ⋅⎝ℯ                + 4⋅ℯ               + 4⋅ℯ       \n",
       "\n",
       "2                   2⎞\n",
       "       5⋅m⋅{\\Delta}v ⎟\n",
       "─      ──────────────⎟\n",
       "            k⋅t₀     ⎟\n",
       "  + 2⋅ℯ              ⎠\n",
       "──────────────────────\n",
       "      2⎞              \n",
       "elta}v ⎟              \n",
       "───────⎟              \n",
       "t₀     ⎟              \n",
       "       ⎠              "
      ]
     },
     "metadata": {},
     "output_type": "display_data"
    },
    {
     "data": {
      "text/latex": [
       "$$v_{x_0} = \\frac{M_{1_x} k t_{0} \\left(4 e^{\\frac{13 m {\\Delta}v^{2}}{2 k t_{0}}} + e^{\\frac{7 m {\\Delta}v^{2}}{k t_{0}}} + 4 e^{\\frac{6 m {\\Delta}v^{2}}{k t_{0}}}\\right)}{2 m \\left(M_{0} {\\Delta}v^{2} \\left(e^{\\frac{13 m {\\Delta}v^{2}}{2 k t_{0}}} + 8 e^{\\frac{11 m {\\Delta}v^{2}}{2 k t_{0}}} + 6 e^{\\frac{6 m {\\Delta}v^{2}}{k t_{0}}}\\right) - M_{2} \\left(e^{\\frac{13 m {\\Delta}v^{2}}{2 k t_{0}}} + 4 e^{\\frac{11 m {\\Delta}v^{2}}{2 k t_{0}}} + 4 e^{\\frac{6 m {\\Delta}v^{2}}{k t_{0}}}\\right)\\right)}$$"
      ],
      "text/plain": [
       "                                                           ⎛                 2\n",
       "                                                           ⎜   13⋅m⋅{\\Delta}v \n",
       "                                                           ⎜   ───────────────\n",
       "                                                           ⎜        2⋅k⋅t₀    \n",
       "                                              M_{1_x}⋅k⋅t₀⋅⎝4⋅ℯ               \n",
       "v_{x_0} = ────────────────────────────────────────────────────────────────────\n",
       "              ⎛              ⎛               2                    2           \n",
       "              ⎜              ⎜ 13⋅m⋅{\\Delta}v       11⋅m⋅{\\Delta}v       6⋅m⋅{\n",
       "              ⎜              ⎜ ───────────────      ───────────────      ─────\n",
       "              ⎜            2 ⎜      2⋅k⋅t₀               2⋅k⋅t₀               \n",
       "          2⋅m⋅⎝M₀⋅{\\Delta}v ⋅⎝ℯ                + 8⋅ℯ                + 6⋅ℯ     \n",
       "\n",
       "                 2                   2⎞                                     \n",
       "    7⋅m⋅{\\Delta}v       6⋅m⋅{\\Delta}v ⎟                                     \n",
       "    ──────────────      ──────────────⎟                                     \n",
       "         k⋅t₀                k⋅t₀     ⎟                                     \n",
       " + ℯ               + 4⋅ℯ              ⎠                                     \n",
       "────────────────────────────────────────────────────────────────────────────\n",
       "        2⎞      ⎛               2                    2                   2⎞⎞\n",
       "\\Delta}v ⎟      ⎜ 13⋅m⋅{\\Delta}v       11⋅m⋅{\\Delta}v       6⋅m⋅{\\Delta}v ⎟⎟\n",
       "─────────⎟      ⎜ ───────────────      ───────────────      ──────────────⎟⎟\n",
       "k⋅t₀     ⎟      ⎜      2⋅k⋅t₀               2⋅k⋅t₀               k⋅t₀     ⎟⎟\n",
       "         ⎠ - M₂⋅⎝ℯ                + 4⋅ℯ                + 4⋅ℯ              ⎠⎠"
      ]
     },
     "metadata": {},
     "output_type": "display_data"
    },
    {
     "data": {
      "text/latex": [
       "$$v_{y_0} = \\frac{M_{1_y} k t_{0} \\left(4 e^{\\frac{13 m {\\Delta}v^{2}}{2 k t_{0}}} + e^{\\frac{7 m {\\Delta}v^{2}}{k t_{0}}} + 4 e^{\\frac{6 m {\\Delta}v^{2}}{k t_{0}}}\\right)}{2 m \\left(M_{0} {\\Delta}v^{2} \\left(e^{\\frac{13 m {\\Delta}v^{2}}{2 k t_{0}}} + 8 e^{\\frac{11 m {\\Delta}v^{2}}{2 k t_{0}}} + 6 e^{\\frac{6 m {\\Delta}v^{2}}{k t_{0}}}\\right) - M_{2} \\left(e^{\\frac{13 m {\\Delta}v^{2}}{2 k t_{0}}} + 4 e^{\\frac{11 m {\\Delta}v^{2}}{2 k t_{0}}} + 4 e^{\\frac{6 m {\\Delta}v^{2}}{k t_{0}}}\\right)\\right)}$$"
      ],
      "text/plain": [
       "                                                           ⎛                 2\n",
       "                                                           ⎜   13⋅m⋅{\\Delta}v \n",
       "                                                           ⎜   ───────────────\n",
       "                                                           ⎜        2⋅k⋅t₀    \n",
       "                                              M_{1_y}⋅k⋅t₀⋅⎝4⋅ℯ               \n",
       "v_{y_0} = ────────────────────────────────────────────────────────────────────\n",
       "              ⎛              ⎛               2                    2           \n",
       "              ⎜              ⎜ 13⋅m⋅{\\Delta}v       11⋅m⋅{\\Delta}v       6⋅m⋅{\n",
       "              ⎜              ⎜ ───────────────      ───────────────      ─────\n",
       "              ⎜            2 ⎜      2⋅k⋅t₀               2⋅k⋅t₀               \n",
       "          2⋅m⋅⎝M₀⋅{\\Delta}v ⋅⎝ℯ                + 8⋅ℯ                + 6⋅ℯ     \n",
       "\n",
       "                 2                   2⎞                                     \n",
       "    7⋅m⋅{\\Delta}v       6⋅m⋅{\\Delta}v ⎟                                     \n",
       "    ──────────────      ──────────────⎟                                     \n",
       "         k⋅t₀                k⋅t₀     ⎟                                     \n",
       " + ℯ               + 4⋅ℯ              ⎠                                     \n",
       "────────────────────────────────────────────────────────────────────────────\n",
       "        2⎞      ⎛               2                    2                   2⎞⎞\n",
       "\\Delta}v ⎟      ⎜ 13⋅m⋅{\\Delta}v       11⋅m⋅{\\Delta}v       6⋅m⋅{\\Delta}v ⎟⎟\n",
       "─────────⎟      ⎜ ───────────────      ───────────────      ──────────────⎟⎟\n",
       "k⋅t₀     ⎟      ⎜      2⋅k⋅t₀               2⋅k⋅t₀               k⋅t₀     ⎟⎟\n",
       "         ⎠ - M₂⋅⎝ℯ                + 4⋅ℯ                + 4⋅ℯ              ⎠⎠"
      ]
     },
     "metadata": {},
     "output_type": "display_data"
    },
    {
     "data": {
      "text/latex": [
       "$$t = - \\frac{k t_{0}^{2} \\left(4 M_{0} {\\Delta}v^{2} \\left(10 e^{\\frac{31 m {\\Delta}v^{2}}{2 k t_{0}}} + 80 e^{\\frac{29 m {\\Delta}v^{2}}{2 k t_{0}}} + 32 e^{\\frac{27 m {\\Delta}v^{2}}{2 k t_{0}}} + e^{\\frac{16 m {\\Delta}v^{2}}{k t_{0}}} + 40 e^{\\frac{15 m {\\Delta}v^{2}}{k t_{0}}} + 80 e^{\\frac{14 m {\\Delta}v^{2}}{k t_{0}}}\\right) - M_{2} \\left(e^{\\frac{33 m {\\Delta}v^{2}}{2 k t_{0}}} + 60 e^{\\frac{31 m {\\Delta}v^{2}}{2 k t_{0}}} + 240 e^{\\frac{29 m {\\Delta}v^{2}}{2 k t_{0}}} + 64 e^{\\frac{27 m {\\Delta}v^{2}}{2 k t_{0}}} + 12 e^{\\frac{16 m {\\Delta}v^{2}}{k t_{0}}} + 160 e^{\\frac{15 m {\\Delta}v^{2}}{k t_{0}}} + 192 e^{\\frac{14 m {\\Delta}v^{2}}{k t_{0}}}\\right)\\right)}{2 m {\\Delta}v^{2} \\left(M_{0} {\\Delta}v^{2} \\left(12 e^{\\frac{31 m {\\Delta}v^{2}}{2 k t_{0}}} + 128 e^{\\frac{29 m {\\Delta}v^{2}}{2 k t_{0}}} + 64 e^{\\frac{27 m {\\Delta}v^{2}}{2 k t_{0}}} + e^{\\frac{16 m {\\Delta}v^{2}}{k t_{0}}} + 56 e^{\\frac{15 m {\\Delta}v^{2}}{k t_{0}}} + 144 e^{\\frac{14 m {\\Delta}v^{2}}{k t_{0}}}\\right) - M_{2} \\left(10 e^{\\frac{31 m {\\Delta}v^{2}}{2 k t_{0}}} + 80 e^{\\frac{29 m {\\Delta}v^{2}}{2 k t_{0}}} + 32 e^{\\frac{27 m {\\Delta}v^{2}}{2 k t_{0}}} + e^{\\frac{16 m {\\Delta}v^{2}}{k t_{0}}} + 40 e^{\\frac{15 m {\\Delta}v^{2}}{k t_{0}}} + 80 e^{\\frac{14 m {\\Delta}v^{2}}{k t_{0}}}\\right)\\right)}$$"
      ],
      "text/plain": [
       "           ⎛                ⎛                  2                     2        \n",
       "           ⎜                ⎜    31⋅m⋅{\\Delta}v        29⋅m⋅{\\Delta}v        2\n",
       "           ⎜                ⎜    ───────────────       ───────────────       ─\n",
       "         2 ⎜              2 ⎜         2⋅k⋅t₀                2⋅k⋅t₀            \n",
       "    -k⋅t₀ ⋅⎝4⋅M₀⋅{\\Delta}v ⋅⎝10⋅ℯ                + 80⋅ℯ                + 32⋅ℯ \n",
       "t = ──────────────────────────────────────────────────────────────────────────\n",
       "                            ⎛              ⎛                  2               \n",
       "                            ⎜              ⎜    31⋅m⋅{\\Delta}v         29⋅m⋅{\\\n",
       "                            ⎜              ⎜    ───────────────        ───────\n",
       "                          2 ⎜            2 ⎜         2⋅k⋅t₀                 2⋅\n",
       "             2⋅m⋅{\\Delta}v ⋅⎝M₀⋅{\\Delta}v ⋅⎝12⋅ℯ                + 128⋅ℯ       \n",
       "\n",
       "             2                  2                     2                     2⎞\n",
       "7⋅m⋅{\\Delta}v     16⋅m⋅{\\Delta}v        15⋅m⋅{\\Delta}v        14⋅m⋅{\\Delta}v ⎟\n",
       "──────────────    ───────────────       ───────────────       ───────────────⎟\n",
       "    2⋅k⋅t₀              k⋅t₀                  k⋅t₀                  k⋅t₀     ⎟\n",
       "               + ℯ                + 40⋅ℯ                + 80⋅ℯ               ⎠\n",
       "──────────────────────────────────────────────────────────────────────────────\n",
       "       2                     2                  2                     2       \n",
       "Delta}v        27⋅m⋅{\\Delta}v     16⋅m⋅{\\Delta}v        15⋅m⋅{\\Delta}v        \n",
       "────────       ───────────────    ───────────────       ───────────────       \n",
       "k⋅t₀                2⋅k⋅t₀              k⋅t₀                  k⋅t₀            \n",
       "         + 64⋅ℯ                + ℯ                + 56⋅ℯ                + 144⋅\n",
       "\n",
       "      ⎛               2                     2                      2          \n",
       "      ⎜ 33⋅m⋅{\\Delta}v        31⋅m⋅{\\Delta}v         29⋅m⋅{\\Delta}v        27⋅\n",
       "      ⎜ ───────────────       ───────────────        ───────────────       ───\n",
       "      ⎜      2⋅k⋅t₀                2⋅k⋅t₀                 2⋅k⋅t₀              \n",
       " - M₂⋅⎝ℯ                + 60⋅ℯ                + 240⋅ℯ                + 64⋅ℯ   \n",
       "──────────────────────────────────────────────────────────────────────────────\n",
       "               2⎞      ⎛                  2                     2             \n",
       " 14⋅m⋅{\\Delta}v ⎟      ⎜    31⋅m⋅{\\Delta}v        29⋅m⋅{\\Delta}v        27⋅m⋅{\n",
       " ───────────────⎟      ⎜    ───────────────       ───────────────       ──────\n",
       "       k⋅t₀     ⎟      ⎜         2⋅k⋅t₀                2⋅k⋅t₀                2\n",
       "ℯ               ⎠ - M₂⋅⎝10⋅ℯ                + 80⋅ℯ                + 32⋅ℯ      \n",
       "\n",
       "           2                     2                      2                     \n",
       "m⋅{\\Delta}v        16⋅m⋅{\\Delta}v         15⋅m⋅{\\Delta}v         14⋅m⋅{\\Delta}\n",
       "────────────       ───────────────        ───────────────        ─────────────\n",
       "  2⋅k⋅t₀                 k⋅t₀                   k⋅t₀                   k⋅t₀   \n",
       "             + 12⋅ℯ                + 160⋅ℯ                + 192⋅ℯ             \n",
       "──────────────────────────────────────────────────────────────────────────────\n",
       "        2                  2                     2                     2⎞⎞    \n",
       "\\Delta}v     16⋅m⋅{\\Delta}v        15⋅m⋅{\\Delta}v        14⋅m⋅{\\Delta}v ⎟⎟    \n",
       "─────────    ───────────────       ───────────────       ───────────────⎟⎟    \n",
       "⋅k⋅t₀              k⋅t₀                  k⋅t₀                  k⋅t₀     ⎟⎟    \n",
       "          + ℯ                + 40⋅ℯ                + 80⋅ℯ               ⎠⎠    \n",
       "\n",
       " 2⎞⎞ \n",
       "v ⎟⎟ \n",
       "──⎟⎟ \n",
       "  ⎟⎟ \n",
       "  ⎠⎠ \n",
       "─────\n",
       "     \n",
       "     \n",
       "     \n",
       "     \n",
       "     "
      ]
     },
     "metadata": {},
     "output_type": "display_data"
    },
    {
     "data": {
      "text/latex": [
       "$$\\sigma_0 = A \\left(1 + \\frac{m t \\left(v_{x}^{2} + v_{y}^{2}\\right)}{2 k t_{0}^{2}} + \\frac{m v_{x} v_{x_0}}{k t_{0}} + \\frac{m v_{y} v_{y_0}}{k t_{0}}\\right) e^{- \\frac{m \\left(v_{x}^{2} + v_{y}^{2}\\right)}{2 k t_{0}}}$$"
      ],
      "text/plain": [
       "                                                                      ⎛  2    \n",
       "                                                                   -m⋅⎝vₓ  + v\n",
       "            ⎛        ⎛  2      2⎞                               ⎞  ───────────\n",
       "            ⎜    m⋅t⋅⎝vₓ  + v_y ⎠   m⋅vₓ⋅v_{x_0}   m⋅v_y⋅v_{y_0}⎟       2⋅k⋅t₀\n",
       "\\sigma₀ = A⋅⎜1 + ──────────────── + ──────────── + ─────────────⎟⋅ℯ           \n",
       "            ⎜              2            k⋅t₀            k⋅t₀    ⎟             \n",
       "            ⎝        2⋅k⋅t₀                                     ⎠             \n",
       "\n",
       "  2⎞ \n",
       "_y ⎠ \n",
       "─────\n",
       "     \n",
       "     \n",
       "     \n",
       "     "
      ]
     },
     "metadata": {},
     "output_type": "display_data"
    }
   ],
   "source": [
    "display(sympy.Eq(A, simp(Asol)))\n",
    "display(sympy.Eq(v_0.dot(N.x), simp(vxsol)))\n",
    "display(sympy.Eq(v_0.dot(N.y), simp(vysol)))\n",
    "display(sympy.Eq(t, simp(tsol)))\n",
    "display(sympy.Eq(sigma_0,linearization))"
   ]
  },
  {
   "cell_type": "code",
   "execution_count": 66,
   "metadata": {
    "collapsed": false
   },
   "outputs": [
    {
     "name": "stdout",
     "output_type": "stream",
     "text": [
      "Checking solutions, if all moment relations equal zero the solutions found are valid\n"
     ]
    },
    {
     "data": {
      "text/latex": [
       "$$0$$"
      ],
      "text/plain": [
       "0"
      ]
     },
     "metadata": {},
     "output_type": "display_data"
    },
    {
     "data": {
      "text/latex": [
       "$$0$$"
      ],
      "text/plain": [
       "0"
      ]
     },
     "metadata": {},
     "output_type": "display_data"
    },
    {
     "data": {
      "text/latex": [
       "$$0$$"
      ],
      "text/plain": [
       "0"
      ]
     },
     "metadata": {},
     "output_type": "display_data"
    },
    {
     "data": {
      "text/latex": [
       "$$0$$"
      ],
      "text/plain": [
       "0"
      ]
     },
     "metadata": {},
     "output_type": "display_data"
    }
   ],
   "source": [
    "print(\"Checking solutions, if all moment relations equal zero the solutions found are valid\")\n",
    "display(sympy.simplify(zmoment.subs(A, Asol).subs(t, tsol).subs(v_0.dot(N.x), vxsol).subs(v_0.dot(N.y), vysol)))\n",
    "display(sympy.simplify(fmoment.dot(N.x).subs(A, Asol).subs(t, tsol).subs(v_0.dot(N.x), vxsol).subs(v_0.dot(N.y), vysol)))\n",
    "display(sympy.simplify(fmoment.dot(N.y).subs(A, Asol).subs(t, tsol).subs(v_0.dot(N.x), vxsol).subs(v_0.dot(N.y), vysol)))\n",
    "display(sympy.simplify(smoment.subs(A, Asol).subs(t, tsol).subs(v_0.dot(N.x), vxsol).subs(v_0.dot(N.y), vysol)))"
   ]
  },
  {
   "cell_type": "markdown",
   "metadata": {},
   "source": [
    "## Defining precomputable constants ##"
   ]
  },
  {
   "cell_type": "code",
   "execution_count": 67,
   "metadata": {
    "collapsed": false,
    "scrolled": false
   },
   "outputs": [
    {
     "name": "stdout",
     "output_type": "stream",
     "text": [
      "Checking that the simplifyied constants also solve the moments\n"
     ]
    },
    {
     "data": {
      "text/latex": [
       "$$0$$"
      ],
      "text/plain": [
       "0"
      ]
     },
     "metadata": {},
     "output_type": "display_data"
    },
    {
     "data": {
      "text/latex": [
       "$$0$$"
      ],
      "text/plain": [
       "0"
      ]
     },
     "metadata": {},
     "output_type": "display_data"
    },
    {
     "data": {
      "text/latex": [
       "$$0$$"
      ],
      "text/plain": [
       "0"
      ]
     },
     "metadata": {},
     "output_type": "display_data"
    },
    {
     "data": {
      "text/latex": [
       "$$0$$"
      ],
      "text/plain": [
       "0"
      ]
     },
     "metadata": {},
     "output_type": "display_data"
    }
   ],
   "source": [
    "e0 = sympy.exp(-m*dv**2/(2*k*t_0))\n",
    "\n",
    "a0 = -(1+2*e0)/(dv**2*(1+4*e0+4*e0**2))\n",
    "a1 = (1+4*e0)/(1+4*e0+4*e0**2)\n",
    "\n",
    "b0 = k*t_0*(1/e0+4+4*e0)/(2*m)\n",
    "b1 = -(1+4*e0+4*e0**2)\n",
    "b2 = dv**2*(1 + 6*e0 + 8*e0**2)\n",
    "\n",
    "c0=-(k*t_0**2)/(2*m*dv**2)\n",
    "c1 = -(1/e0 + 12 + 60*e0 + 160*e0**2 + 240*e0**3 + 192*e0**4 + 64*e0**5)\n",
    "c2 = 4*dv**2*(1 + 10*e0 + 40*e0**2 + 80*e0**3 + 80*e0**4 + 32*e0**5)\n",
    "c3 = -(1 + 10*e0 + 40*e0**2 + 80*e0**3 + 80*e0**4 + 32*e0**5)\n",
    "c4 = dv**2*(1 + 12*e0 + 56*e0**2 + 128*e0**3 + 144*e0**4 + 64*e0**5)\n",
    "\n",
    "Asol2 = a0*M2 + a1*M0\n",
    "vxsol2 = b0*M1_x/(b1*M2+b2*M0)\n",
    "vysol2 = b0*M1_y/(b1*M2+b2*M0)\n",
    "tsol2 = c0*(c1*M2+c2*M0)/(c3*M2+c4*M0)\n",
    "\n",
    "print(\"Checking that the simplifyied constants also solve the moments\")\n",
    "display(sympy.simplify(zmoment.subs(A, Asol2).subs(t, tsol2).subs(v_0.dot(N.x), vxsol2).subs(v_0.dot(N.y), vysol2)))\n",
    "display(sympy.simplify(fmoment.dot(N.x).subs(A, Asol2).subs(t, tsol2).subs(v_0.dot(N.x), vxsol2).subs(v_0.dot(N.y), vysol2)))\n",
    "display(sympy.simplify(fmoment.dot(N.y).subs(A, Asol2).subs(t, tsol2).subs(v_0.dot(N.x), vxsol2).subs(v_0.dot(N.y), vysol2)))\n",
    "display(sympy.simplify(smoment.subs(A, Asol2).subs(t, tsol2).subs(v_0.dot(N.x), vxsol2).subs(v_0.dot(N.y), vysol2)))"
   ]
  },
  {
   "cell_type": "markdown",
   "metadata": {},
   "source": [
    "## Solution to linearization of gausian distribution in 2D ##\n",
    "\n",
    "Simplifying the solution using the precomputed factors, $e_0 = e^{-\\frac{m{\\Delta v}^2}{2kt_0}}$, $a_0 =-\\frac{1 + 2e_0}{{\\Delta v}^2\\left(1 + 4e_0 + 4{e_0}^2\\right)}$, $a_1 = \\frac{\\left(1 + 4e_0\\right)}{\\left(1 + 4e_0 + 4{e_0}^2\\right)}$\n",
    "\n",
    "$b_0 = \\frac{kt_0\\left({e_0}^{-1} + 4 + 4e_0\\right)}{2m}$, $b_1 = -\\left(1 + 4e_0 + 4{e_0}^2\\right)$, $b_2 = {\\Delta v}^2\\left(1 + 6e_0 + 8{e_0}^2\\right)$\n",
    "\n",
    "$c_0 = -\\frac{k{t_0}^2}{2m{\\Delta v}^2}$, $c_1 = -\\left({e_0}^{-1} + 12 + 60e_0 + 160{e_0}^2 + 240{e_0}^3 + 192{e_0}^4 + 64{e_0}^5\\right)$, $c_2 = 4{\\Delta v}^2\\left(1 + 10e_0 + 40{e_0}^2 + 80{e_0}^3 + 80{e_0}^4 + 32{e_0}^5\\right)$, $c_3 = -\\left(1 + 10e_0 + 40{e_0}^2 + 80{e_0}^3 + 80{e_0}^4 + 32{e_0}^5\\right)$, $c_4 = {\\Delta v}^2\\left(1 + 12e_0 + 56{e_0}^2 + 128{e_0}^3 + 144{e_0}^4 + 64{e_0}^5\\right)$\n",
    "\n",
    "The moments of the distribution,\n",
    "\n",
    "$$M_0 = \\sum_{i=-1}^1\\sum_{j=-1}^1 \\sigma(\\Delta v i, \\Delta v j)$$\n",
    "\n",
    "$$M_1 = \\sum_{i=-1}^1\\sum_{j=-1}^1 \\Delta v (i \\hat{x} + j \\hat{y})\\sigma(\\Delta v i, \\Delta v j)$$\n",
    "\n",
    "$$M_2 = \\sum_{i=-1}^1\\sum_{j=-1}^1 {\\Delta v}^2(i^2 + j^2)\\sigma(\\Delta v i, \\Delta v j)$$\n",
    "\n",
    "Using the precomputed values the equations for the distribution parameters simplify to,\n",
    "\n",
    "$$A = a_0 M_2 + a_1 M_0$$\n",
    "\n",
    "$$v_{x_0} = \\frac{b_0 M_{1_x}}{b_1 M_2 + b_2 M_0}$$\n",
    "\n",
    "$$v_{y_0} = \\frac{b_0 M_{1_y}}{b_1 M_2 + b_2 M_0}$$\n",
    "\n",
    "$$t = c_0 \\frac{c_1 M_2 + c_2 M_0}{c_3 M_2 + c_4 M_0}$$\n",
    "\n",
    "$$\\sigma_0 = A\\left(1 - \\frac{m\\vec{v}\\cdot\\vec{v}_0}{kt_0} + \\frac{m \\vec{v}\\cdot\\vec{v}}{2kt_0}\\frac{t}{t_0}\\right)e^{\\frac{m\\vec{v}\\cdot\\vec{v}}{2kt_0}}$$\n",
    "\n",
    "Using this definition the first three moments of $\\sigma$ are conserved when computing $\\sigma_0$."
   ]
  },
  {
   "cell_type": "code",
   "execution_count": null,
   "metadata": {
    "collapsed": true
   },
   "outputs": [],
   "source": []
  }
 ],
 "metadata": {
  "kernelspec": {
   "display_name": "Python 3",
   "language": "python",
   "name": "python3"
  },
  "language_info": {
   "codemirror_mode": {
    "name": "ipython",
    "version": 3
   },
   "file_extension": ".py",
   "mimetype": "text/x-python",
   "name": "python",
   "nbconvert_exporter": "python",
   "pygments_lexer": "ipython3",
   "version": "3.4.2"
  }
 },
 "nbformat": 4,
 "nbformat_minor": 0
}
