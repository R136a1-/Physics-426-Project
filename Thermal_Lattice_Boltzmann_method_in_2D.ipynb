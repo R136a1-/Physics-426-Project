{
 "cells": [
  {
   "cell_type": "code",
   "execution_count": 1,
   "metadata": {
    "collapsed": false
   },
   "outputs": [],
   "source": [
    "import sympy\n",
    "from sympy.physics import vector\n",
    "from IPython.display import display\n",
    "\n",
    "sympy.init_printing(use_latex=\"mathjax\")"
   ]
  },
  {
   "cell_type": "code",
   "execution_count": 16,
   "metadata": {
    "collapsed": false
   },
   "outputs": [],
   "source": [
    "N = vector.ReferenceFrame(\"N\")\n",
    "A, m, k, t, t_0, sigma_0, dv = sympy.symbols(\"A m k t t_0 \\\\sigma_0, {\\\\Delta}v\", real=True, positive=True)\n",
    "M1_x, M1_y, M2, v_x, v_y, vx_0, vy_0 = sympy.symbols(\"M_{1_x} M_{1_y} M_2 v_x v_y v_{x_0} v_{y_0}\", real=True)\n",
    "v = v_x*N.x + v_y*N.y\n",
    "v_0 = vx_0*N.x + vy_0*N.y\n",
    "M1 = M1_x*N.x + M1_y*N.y\n",
    "sigma = A*sympy.exp(-m*vector.dot(v - v_0, v - v_0)/(2*k*(t - t_0)))\n",
    "\n",
    "def eval_at_zero(expression):\n",
    "    return expression.subs(vx_0, 0.0).subs(vy_0, 0.0).subs(t, 0.0)\n",
    "\n",
    "def taylor(expression, variables = [t, vx_0, vy_0]):\n",
    "    expansion = sympy.simplify(eval_at_zero(expression)/eval_at_zero(expression))\n",
    "    for var in variables:\n",
    "        expansion = expansion + sympy.simplify(eval_at_zero(sympy.diff(expression, var))*var/eval_at_zero(expression))\n",
    "        \n",
    "#    for var1 in variables:\n",
    "#        for var2 in variables:\n",
    "#            expansion = expansion + sympy.simplify(eval_at_zero(sympy.diff(sympy.diff(expression, var1), var2))*var1*var2/(2*eval_at_zero(expression)))\n",
    "    return expansion*eval_at_zero(expression)\n",
    "\n",
    "def zeroeth_moments(expression, vrange=[-dv, 0.0, dv]):\n",
    "    moment = m -m\n",
    "    for vx in vrange:\n",
    "        for vy in vrange:\n",
    "            moment = moment + (expression).subs(v_x, vx).subs(v_y, vy)\n",
    "    return sympy.simplify(moment)\n",
    "\n",
    "    \n",
    "def first_moments(expression, vrange=[-dv, 0.0, dv]):\n",
    "    moment = v - v\n",
    "    for vx in vrange:\n",
    "        for vy in vrange:\n",
    "            moment = moment + (v*expression).subs(v_x, vx).subs(v_y, vy)\n",
    "    return moment.simplify()\n",
    "\n",
    "    \n",
    "def second_moments(expression, vrange=[-dv, 0.0, dv]):\n",
    "    moment = m - m\n",
    "    for vx in vrange:\n",
    "        for vy in vrange:\n",
    "            moment = moment + (vector.dot(v, v)*expression).subs(v_x, vx).subs(v_y, vy)\n",
    "    return sympy.simplify(moment)\n",
    "\n",
    "def simp(expression):\n",
    "    return sympy.simplify(sympy.powsimp(sympy.collect(sympy.collect(expression, M2), dv**2)))"
   ]
  },
  {
   "cell_type": "code",
   "execution_count": 3,
   "metadata": {
    "collapsed": false
   },
   "outputs": [
    {
     "data": {
      "text/latex": [
       "$$A \\left(1 + \\frac{m t \\left(v_{x}^{2} + v_{y}^{2}\\right)}{2 k t_{0}^{2}} - \\frac{m v_{x} v_{x_0}}{k t_{0}} - \\frac{m v_{y} v_{y_0}}{k t_{0}}\\right) e^{\\frac{m \\left(v_{x}^{2} + v_{y}^{2}\\right)}{2 k t_{0}}}$$"
      ],
      "text/plain": [
       "                                                           ⎛  2      2⎞\n",
       "                                                         m⋅⎝vₓ  + v_y ⎠\n",
       "  ⎛        ⎛  2      2⎞                               ⎞  ──────────────\n",
       "  ⎜    m⋅t⋅⎝vₓ  + v_y ⎠   m⋅vₓ⋅v_{x_0}   m⋅v_y⋅v_{y_0}⎟      2⋅k⋅t₀    \n",
       "A⋅⎜1 + ──────────────── - ──────────── - ─────────────⎟⋅ℯ              \n",
       "  ⎜              2            k⋅t₀            k⋅t₀    ⎟                \n",
       "  ⎝        2⋅k⋅t₀                                     ⎠                "
      ]
     },
     "execution_count": 3,
     "metadata": {},
     "output_type": "execute_result"
    }
   ],
   "source": [
    "linearization = taylor(sigma)\n",
    "linearization"
   ]
  },
  {
   "cell_type": "code",
   "execution_count": 4,
   "metadata": {
    "collapsed": false
   },
   "outputs": [
    {
     "data": {
      "text/latex": [
       "$$4 A e^{\\frac{m {\\Delta}v^{2}}{2 k t_{0}}} + 4 A e^{\\frac{m {\\Delta}v^{2}}{k t_{0}}} + A + \\frac{2 A m t}{k t_{0}^{2}} {\\Delta}v^{2} e^{\\frac{m {\\Delta}v^{2}}{2 k t_{0}}} + \\frac{4 A m t}{k t_{0}^{2}} {\\Delta}v^{2} e^{\\frac{m {\\Delta}v^{2}}{k t_{0}}} - 1$$"
      ],
      "text/plain": [
       "                                                                           2  \n",
       "                2                   2                           m⋅{\\Delta}v   \n",
       "     m⋅{\\Delta}v         m⋅{\\Delta}v                            ────────────  \n",
       "     ────────────        ────────────                        2     2⋅k⋅t₀     \n",
       "        2⋅k⋅t₀               k⋅t₀           2⋅A⋅m⋅t⋅{\\Delta}v ⋅ℯ              \n",
       "4⋅A⋅ℯ             + 4⋅A⋅ℯ             + A + ──────────────────────────────── +\n",
       "                                                             2                \n",
       "                                                         k⋅t₀                 \n",
       "\n",
       "                                2    \n",
       "                     m⋅{\\Delta}v     \n",
       "                     ────────────    \n",
       "                  2      k⋅t₀        \n",
       " 4⋅A⋅m⋅t⋅{\\Delta}v ⋅ℯ                \n",
       " ──────────────────────────────── - 1\n",
       "                  2                  \n",
       "              k⋅t₀                   "
      ]
     },
     "execution_count": 4,
     "metadata": {},
     "output_type": "execute_result"
    }
   ],
   "source": [
    "zmoment = zeroeth_moments(linearization) - 1\n",
    "zmoment"
   ]
  },
  {
   "cell_type": "code",
   "execution_count": 5,
   "metadata": {
    "collapsed": false,
    "scrolled": true
   },
   "outputs": [
    {
     "data": {
      "text/latex": [
       "$$(- \\frac{2 A m v_{x_0}}{k t_{0}} {\\Delta}v^{2} \\left(e^{\\frac{m {\\Delta}v^{2}}{2 k t_{0}}} + 2 e^{\\frac{m {\\Delta}v^{2}}{k t_{0}}}\\right) - M_{1_x})\\mathbf{\\hat{n}_x} + (- \\frac{2 A m v_{y_0}}{k t_{0}} {\\Delta}v^{2} \\left(e^{\\frac{m {\\Delta}v^{2}}{2 k t_{0}}} + 2 e^{\\frac{m {\\Delta}v^{2}}{k t_{0}}}\\right) - M_{1_y})\\mathbf{\\hat{n}_y}$$"
      ],
      "text/plain": [
       "⎛                           ⎛            2                 2⎞          ⎞\n",
       "⎜                           ⎜ m⋅{\\Delta}v       m⋅{\\Delta}v ⎟          ⎟\n",
       "⎜                           ⎜ ────────────      ────────────⎟          ⎟\n",
       "⎜                         2 ⎜    2⋅k⋅t₀             k⋅t₀    ⎟          ⎟\n",
       "⎜  2⋅A⋅m⋅v_{x_0}⋅{\\Delta}v ⋅⎝ℯ             + 2⋅ℯ            ⎠          ⎟\n",
       "⎜- ────────────────────────────────────────────────────────── - M_{1_x}⎟\n",
       "⎝                             k⋅t₀                                     ⎠ n_x + ⎛                           ⎛            2                 2⎞          ⎞\n",
       "⎜                           ⎜ m⋅{\\Delta}v       m⋅{\\Delta}v ⎟          ⎟\n",
       "⎜                           ⎜ ────────────      ────────────⎟          ⎟\n",
       "⎜                         2 ⎜    2⋅k⋅t₀             k⋅t₀    ⎟          ⎟\n",
       "⎜  2⋅A⋅m⋅v_{y_0}⋅{\\Delta}v ⋅⎝ℯ             + 2⋅ℯ            ⎠          ⎟\n",
       "⎜- ────────────────────────────────────────────────────────── - M_{1_y}⎟\n",
       "⎝                             k⋅t₀                                     ⎠ n_y"
      ]
     },
     "execution_count": 5,
     "metadata": {},
     "output_type": "execute_result"
    }
   ],
   "source": [
    "fmoment = first_moments(linearization) - M1\n",
    "fmoment"
   ]
  },
  {
   "cell_type": "code",
   "execution_count": 6,
   "metadata": {
    "collapsed": false
   },
   "outputs": [
    {
     "data": {
      "text/latex": [
       "$$\\frac{2 A {\\Delta}v^{2}}{k t_{0}^{2}} \\left(2 k t_{0}^{2} e^{\\frac{m {\\Delta}v^{2}}{2 k t_{0}}} + 4 k t_{0}^{2} e^{\\frac{m {\\Delta}v^{2}}{k t_{0}}} + m t {\\Delta}v^{2} e^{\\frac{m {\\Delta}v^{2}}{2 k t_{0}}} + 4 m t {\\Delta}v^{2} e^{\\frac{m {\\Delta}v^{2}}{k t_{0}}}\\right) - M_{2}$$"
      ],
      "text/plain": [
       "               ⎛                    2                       2                 \n",
       "               ⎜         m⋅{\\Delta}v             m⋅{\\Delta}v                  \n",
       "               ⎜         ────────────            ────────────                 \n",
       "             2 ⎜      2     2⋅k⋅t₀            2      k⋅t₀                    2\n",
       "2⋅A⋅{\\Delta}v ⋅⎝2⋅k⋅t₀ ⋅ℯ             + 4⋅k⋅t₀ ⋅ℯ             + m⋅t⋅{\\Delta}v \n",
       "──────────────────────────────────────────────────────────────────────────────\n",
       "                                                                2             \n",
       "                                                            k⋅t₀              \n",
       "\n",
       "             2                                2⎞     \n",
       "  m⋅{\\Delta}v                      m⋅{\\Delta}v ⎟     \n",
       "  ────────────                     ────────────⎟     \n",
       "     2⋅k⋅t₀                     2      k⋅t₀    ⎟     \n",
       "⋅ℯ             + 4⋅m⋅t⋅{\\Delta}v ⋅ℯ            ⎠     \n",
       "──────────────────────────────────────────────── - M₂\n",
       "                                                     \n",
       "                                                     "
      ]
     },
     "execution_count": 6,
     "metadata": {},
     "output_type": "execute_result"
    }
   ],
   "source": [
    "smoment = second_moments(linearization) - M2\n",
    "smoment"
   ]
  },
  {
   "cell_type": "code",
   "execution_count": 7,
   "metadata": {
    "collapsed": false
   },
   "outputs": [],
   "source": [
    "System_solution = sympy.solve([zmoment, fmoment.dot(N.x), fmoment.dot(N.y), smoment], (A, v_0.dot(N.x), v_0.dot(N.y), t), dict=True)\n",
    "Asol, vxsol, vysol, tsol = System_solution[0][A], System_solution[0][v_0.dot(N.x)], System_solution[0][v_0.dot(N.y)], System_solution[0][t]"
   ]
  },
  {
   "cell_type": "code",
   "execution_count": 23,
   "metadata": {
    "collapsed": false,
    "scrolled": false
   },
   "outputs": [
    {
     "data": {
      "text/latex": [
       "$$A = \\frac{- M_{2} \\left(e^{\\frac{m {\\Delta}v^{2}}{2 k t_{0}}} + 2 e^{\\frac{m {\\Delta}v^{2}}{k t_{0}}}\\right) + {\\Delta}v^{2} \\left(e^{\\frac{m {\\Delta}v^{2}}{2 k t_{0}}} + 4 e^{\\frac{m {\\Delta}v^{2}}{k t_{0}}}\\right)}{{\\Delta}v^{2} \\left(4 e^{\\frac{3 m {\\Delta}v^{2}}{2 k t_{0}}} + e^{\\frac{m {\\Delta}v^{2}}{2 k t_{0}}} + 4 e^{\\frac{m {\\Delta}v^{2}}{k t_{0}}}\\right)}$$"
      ],
      "text/plain": [
       "         ⎛            2                 2⎞              ⎛            2        \n",
       "         ⎜ m⋅{\\Delta}v       m⋅{\\Delta}v ⎟              ⎜ m⋅{\\Delta}v       m⋅\n",
       "         ⎜ ────────────      ────────────⎟              ⎜ ────────────      ──\n",
       "         ⎜    2⋅k⋅t₀             k⋅t₀    ⎟            2 ⎜    2⋅k⋅t₀           \n",
       "    - M₂⋅⎝ℯ             + 2⋅ℯ            ⎠ + {\\Delta}v ⋅⎝ℯ             + 4⋅ℯ  \n",
       "A = ──────────────────────────────────────────────────────────────────────────\n",
       "                          ⎛                2               2                 2\n",
       "                          ⎜   3⋅m⋅{\\Delta}v     m⋅{\\Delta}v       m⋅{\\Delta}v \n",
       "                          ⎜   ──────────────    ────────────      ────────────\n",
       "                        2 ⎜       2⋅k⋅t₀           2⋅k⋅t₀             k⋅t₀    \n",
       "               {\\Delta}v ⋅⎝4⋅ℯ               + ℯ             + 4⋅ℯ            \n",
       "\n",
       "         2⎞\n",
       "{\\Delta}v ⎟\n",
       "──────────⎟\n",
       "  k⋅t₀    ⎟\n",
       "          ⎠\n",
       "───────────\n",
       "⎞          \n",
       "⎟          \n",
       "⎟          \n",
       "⎟          \n",
       "⎠          "
      ]
     },
     "metadata": {},
     "output_type": "display_data"
    },
    {
     "data": {
      "text/latex": [
       "$$v_{x_0} = \\frac{M_{1_x} k t_{0} \\left(4 e^{\\frac{3 m {\\Delta}v^{2}}{2 k t_{0}}} + e^{\\frac{m {\\Delta}v^{2}}{2 k t_{0}}} + 4 e^{\\frac{m {\\Delta}v^{2}}{k t_{0}}}\\right)}{2 m \\left(M_{2} \\left(4 e^{\\frac{3 m {\\Delta}v^{2}}{2 k t_{0}}} + 4 e^{\\frac{2 m {\\Delta}v^{2}}{k t_{0}}} + e^{\\frac{m {\\Delta}v^{2}}{k t_{0}}}\\right) - {\\Delta}v^{2} \\left(6 e^{\\frac{3 m {\\Delta}v^{2}}{2 k t_{0}}} + 8 e^{\\frac{2 m {\\Delta}v^{2}}{k t_{0}}} + e^{\\frac{m {\\Delta}v^{2}}{k t_{0}}}\\right)\\right)}$$"
      ],
      "text/plain": [
       "                                                         ⎛                2   \n",
       "                                                         ⎜   3⋅m⋅{\\Delta}v    \n",
       "                                                         ⎜   ──────────────   \n",
       "                                                         ⎜       2⋅k⋅t₀       \n",
       "                                            M_{1_x}⋅k⋅t₀⋅⎝4⋅ℯ               + \n",
       "v_{x_0} = ────────────────────────────────────────────────────────────────────\n",
       "              ⎛   ⎛                2                   2               2⎞     \n",
       "              ⎜   ⎜   3⋅m⋅{\\Delta}v       2⋅m⋅{\\Delta}v     m⋅{\\Delta}v ⎟     \n",
       "              ⎜   ⎜   ──────────────      ──────────────    ────────────⎟     \n",
       "              ⎜   ⎜       2⋅k⋅t₀               k⋅t₀             k⋅t₀    ⎟     \n",
       "          2⋅m⋅⎝M₂⋅⎝4⋅ℯ               + 4⋅ℯ               + ℯ            ⎠ - {\\\n",
       "\n",
       "            2                 2⎞                                 \n",
       " m⋅{\\Delta}v       m⋅{\\Delta}v ⎟                                 \n",
       " ────────────      ────────────⎟                                 \n",
       "    2⋅k⋅t₀             k⋅t₀    ⎟                                 \n",
       "ℯ             + 4⋅ℯ            ⎠                                 \n",
       "─────────────────────────────────────────────────────────────────\n",
       "         ⎛                2                   2               2⎞⎞\n",
       "         ⎜   3⋅m⋅{\\Delta}v       2⋅m⋅{\\Delta}v     m⋅{\\Delta}v ⎟⎟\n",
       "         ⎜   ──────────────      ──────────────    ────────────⎟⎟\n",
       "       2 ⎜       2⋅k⋅t₀               k⋅t₀             k⋅t₀    ⎟⎟\n",
       "Delta}v ⋅⎝6⋅ℯ               + 8⋅ℯ               + ℯ            ⎠⎠"
      ]
     },
     "metadata": {},
     "output_type": "display_data"
    },
    {
     "data": {
      "text/latex": [
       "$$v_{y_0} = \\frac{M_{1_y} k t_{0} \\left(4 e^{\\frac{3 m {\\Delta}v^{2}}{2 k t_{0}}} + e^{\\frac{m {\\Delta}v^{2}}{2 k t_{0}}} + 4 e^{\\frac{m {\\Delta}v^{2}}{k t_{0}}}\\right)}{2 m \\left(M_{2} \\left(4 e^{\\frac{3 m {\\Delta}v^{2}}{2 k t_{0}}} + 4 e^{\\frac{2 m {\\Delta}v^{2}}{k t_{0}}} + e^{\\frac{m {\\Delta}v^{2}}{k t_{0}}}\\right) - {\\Delta}v^{2} \\left(6 e^{\\frac{3 m {\\Delta}v^{2}}{2 k t_{0}}} + 8 e^{\\frac{2 m {\\Delta}v^{2}}{k t_{0}}} + e^{\\frac{m {\\Delta}v^{2}}{k t_{0}}}\\right)\\right)}$$"
      ],
      "text/plain": [
       "                                                         ⎛                2   \n",
       "                                                         ⎜   3⋅m⋅{\\Delta}v    \n",
       "                                                         ⎜   ──────────────   \n",
       "                                                         ⎜       2⋅k⋅t₀       \n",
       "                                            M_{1_y}⋅k⋅t₀⋅⎝4⋅ℯ               + \n",
       "v_{y_0} = ────────────────────────────────────────────────────────────────────\n",
       "              ⎛   ⎛                2                   2               2⎞     \n",
       "              ⎜   ⎜   3⋅m⋅{\\Delta}v       2⋅m⋅{\\Delta}v     m⋅{\\Delta}v ⎟     \n",
       "              ⎜   ⎜   ──────────────      ──────────────    ────────────⎟     \n",
       "              ⎜   ⎜       2⋅k⋅t₀               k⋅t₀             k⋅t₀    ⎟     \n",
       "          2⋅m⋅⎝M₂⋅⎝4⋅ℯ               + 4⋅ℯ               + ℯ            ⎠ - {\\\n",
       "\n",
       "            2                 2⎞                                 \n",
       " m⋅{\\Delta}v       m⋅{\\Delta}v ⎟                                 \n",
       " ────────────      ────────────⎟                                 \n",
       "    2⋅k⋅t₀             k⋅t₀    ⎟                                 \n",
       "ℯ             + 4⋅ℯ            ⎠                                 \n",
       "─────────────────────────────────────────────────────────────────\n",
       "         ⎛                2                   2               2⎞⎞\n",
       "         ⎜   3⋅m⋅{\\Delta}v       2⋅m⋅{\\Delta}v     m⋅{\\Delta}v ⎟⎟\n",
       "         ⎜   ──────────────      ──────────────    ────────────⎟⎟\n",
       "       2 ⎜       2⋅k⋅t₀               k⋅t₀             k⋅t₀    ⎟⎟\n",
       "Delta}v ⋅⎝6⋅ℯ               + 8⋅ℯ               + ℯ            ⎠⎠"
      ]
     },
     "metadata": {},
     "output_type": "display_data"
    },
    {
     "data": {
      "text/latex": [
       "$$t = - \\frac{k t_{0}^{2} \\left(M_{2} \\left(64 e^{\\frac{9 m {\\Delta}v^{2}}{2 k t_{0}}} + 240 e^{\\frac{7 m {\\Delta}v^{2}}{2 k t_{0}}} + 60 e^{\\frac{5 m {\\Delta}v^{2}}{2 k t_{0}}} + e^{\\frac{3 m {\\Delta}v^{2}}{2 k t_{0}}} + 192 e^{\\frac{4 m {\\Delta}v^{2}}{k t_{0}}} + 160 e^{\\frac{3 m {\\Delta}v^{2}}{k t_{0}}} + 12 e^{\\frac{2 m {\\Delta}v^{2}}{k t_{0}}}\\right) - 4 {\\Delta}v^{2} \\left(32 e^{\\frac{9 m {\\Delta}v^{2}}{2 k t_{0}}} + 80 e^{\\frac{7 m {\\Delta}v^{2}}{2 k t_{0}}} + 10 e^{\\frac{5 m {\\Delta}v^{2}}{2 k t_{0}}} + 80 e^{\\frac{4 m {\\Delta}v^{2}}{k t_{0}}} + 40 e^{\\frac{3 m {\\Delta}v^{2}}{k t_{0}}} + e^{\\frac{2 m {\\Delta}v^{2}}{k t_{0}}}\\right)\\right)}{2 m {\\Delta}v^{2} \\left(M_{2} \\left(32 e^{\\frac{9 m {\\Delta}v^{2}}{2 k t_{0}}} + 80 e^{\\frac{7 m {\\Delta}v^{2}}{2 k t_{0}}} + 10 e^{\\frac{5 m {\\Delta}v^{2}}{2 k t_{0}}} + 80 e^{\\frac{4 m {\\Delta}v^{2}}{k t_{0}}} + 40 e^{\\frac{3 m {\\Delta}v^{2}}{k t_{0}}} + e^{\\frac{2 m {\\Delta}v^{2}}{k t_{0}}}\\right) - {\\Delta}v^{2} \\left(64 e^{\\frac{9 m {\\Delta}v^{2}}{2 k t_{0}}} + 128 e^{\\frac{7 m {\\Delta}v^{2}}{2 k t_{0}}} + 12 e^{\\frac{5 m {\\Delta}v^{2}}{2 k t_{0}}} + 144 e^{\\frac{4 m {\\Delta}v^{2}}{k t_{0}}} + 56 e^{\\frac{3 m {\\Delta}v^{2}}{k t_{0}}} + e^{\\frac{2 m {\\Delta}v^{2}}{k t_{0}}}\\right)\\right)}$$"
      ],
      "text/plain": [
       "           ⎛   ⎛                 2                     2                    2 \n",
       "           ⎜   ⎜    9⋅m⋅{\\Delta}v         7⋅m⋅{\\Delta}v        5⋅m⋅{\\Delta}v  \n",
       "           ⎜   ⎜    ──────────────        ──────────────       ────────────── \n",
       "         2 ⎜   ⎜        2⋅k⋅t₀                2⋅k⋅t₀               2⋅k⋅t₀     \n",
       "    -k⋅t₀ ⋅⎝M₂⋅⎝64⋅ℯ               + 240⋅ℯ               + 60⋅ℯ               \n",
       "t = ──────────────────────────────────────────────────────────────────────────\n",
       "                            ⎛   ⎛                 2                    2      \n",
       "                            ⎜   ⎜    9⋅m⋅{\\Delta}v        7⋅m⋅{\\Delta}v       \n",
       "                            ⎜   ⎜    ──────────────       ──────────────      \n",
       "                          2 ⎜   ⎜        2⋅k⋅t₀               2⋅k⋅t₀          \n",
       "             2⋅m⋅{\\Delta}v ⋅⎝M₂⋅⎝32⋅ℯ               + 80⋅ℯ               + 10⋅\n",
       "\n",
       "                2                     2                     2                 \n",
       "   3⋅m⋅{\\Delta}v         4⋅m⋅{\\Delta}v         3⋅m⋅{\\Delta}v        2⋅m⋅{\\Delt\n",
       "   ──────────────        ──────────────        ──────────────       ──────────\n",
       "       2⋅k⋅t₀                 k⋅t₀                  k⋅t₀                 k⋅t₀ \n",
       "+ ℯ               + 192⋅ℯ               + 160⋅ℯ               + 12⋅ℯ          \n",
       "──────────────────────────────────────────────────────────────────────────────\n",
       "              2                    2                    2                 2⎞  \n",
       " 5⋅m⋅{\\Delta}v        4⋅m⋅{\\Delta}v        3⋅m⋅{\\Delta}v     2⋅m⋅{\\Delta}v ⎟  \n",
       " ──────────────       ──────────────       ──────────────    ──────────────⎟  \n",
       "     2⋅k⋅t₀                k⋅t₀                 k⋅t₀              k⋅t₀     ⎟  \n",
       "ℯ               + 80⋅ℯ               + 40⋅ℯ               + ℯ              ⎠ -\n",
       "\n",
       "   2⎞                ⎛                 2                    2                 \n",
       "a}v ⎟                ⎜    9⋅m⋅{\\Delta}v        7⋅m⋅{\\Delta}v        5⋅m⋅{\\Delt\n",
       "────⎟                ⎜    ──────────────       ──────────────       ──────────\n",
       "    ⎟              2 ⎜        2⋅k⋅t₀               2⋅k⋅t₀               2⋅k⋅t₀\n",
       "    ⎠ - 4⋅{\\Delta}v ⋅⎝32⋅ℯ               + 80⋅ℯ               + 10⋅ℯ          \n",
       "──────────────────────────────────────────────────────────────────────────────\n",
       "            ⎛                 2                     2                    2    \n",
       "            ⎜    9⋅m⋅{\\Delta}v         7⋅m⋅{\\Delta}v        5⋅m⋅{\\Delta}v     \n",
       "            ⎜    ──────────────        ──────────────       ──────────────    \n",
       "          2 ⎜        2⋅k⋅t₀                2⋅k⋅t₀               2⋅k⋅t₀        \n",
       " {\\Delta}v ⋅⎝64⋅ℯ               + 128⋅ℯ               + 12⋅ℯ               + 1\n",
       "\n",
       "   2                    2                    2                 2⎞⎞ \n",
       "a}v        4⋅m⋅{\\Delta}v        3⋅m⋅{\\Delta}v     2⋅m⋅{\\Delta}v ⎟⎟ \n",
       "────       ──────────────       ──────────────    ──────────────⎟⎟ \n",
       "                k⋅t₀                 k⋅t₀              k⋅t₀     ⎟⎟ \n",
       "     + 80⋅ℯ               + 40⋅ℯ               + ℯ              ⎠⎠ \n",
       "───────────────────────────────────────────────────────────────────\n",
       "                 2                    2                 2⎞⎞        \n",
       "    4⋅m⋅{\\Delta}v        3⋅m⋅{\\Delta}v     2⋅m⋅{\\Delta}v ⎟⎟        \n",
       "    ──────────────       ──────────────    ──────────────⎟⎟        \n",
       "         k⋅t₀                 k⋅t₀              k⋅t₀     ⎟⎟        \n",
       "44⋅ℯ               + 56⋅ℯ               + ℯ              ⎠⎠        "
      ]
     },
     "metadata": {},
     "output_type": "display_data"
    },
    {
     "data": {
      "text/latex": [
       "$$\\sigma_0 = A \\left(1 + \\frac{m t \\left(v_{x}^{2} + v_{y}^{2}\\right)}{2 k t_{0}^{2}} - \\frac{m v_{x} v_{x_0}}{k t_{0}} - \\frac{m v_{y} v_{y_0}}{k t_{0}}\\right) e^{\\frac{m \\left(v_{x}^{2} + v_{y}^{2}\\right)}{2 k t_{0}}}$$"
      ],
      "text/plain": [
       "                                                                     ⎛  2     \n",
       "                                                                   m⋅⎝vₓ  + v_\n",
       "            ⎛        ⎛  2      2⎞                               ⎞  ───────────\n",
       "            ⎜    m⋅t⋅⎝vₓ  + v_y ⎠   m⋅vₓ⋅v_{x_0}   m⋅v_y⋅v_{y_0}⎟      2⋅k⋅t₀ \n",
       "\\sigma₀ = A⋅⎜1 + ──────────────── - ──────────── - ─────────────⎟⋅ℯ           \n",
       "            ⎜              2            k⋅t₀            k⋅t₀    ⎟             \n",
       "            ⎝        2⋅k⋅t₀                                     ⎠             \n",
       "\n",
       " 2⎞\n",
       "y ⎠\n",
       "───\n",
       "   \n",
       "   \n",
       "   \n",
       "   "
      ]
     },
     "metadata": {},
     "output_type": "display_data"
    }
   ],
   "source": [
    "display(sympy.Eq(A, simp(Asol)))\n",
    "display(sympy.Eq(v_0.dot(N.x), simp(vxsol)))\n",
    "display(sympy.Eq(v_0.dot(N.y), simp(vysol)))\n",
    "display(sympy.Eq(t, simp(tsol)))\n",
    "display(sympy.Eq(sigma_0,linearization))"
   ]
  },
  {
   "cell_type": "markdown",
   "metadata": {},
   "source": [
    "## Solution to linearization of gausian distribution in 2D ##\n",
    "\n",
    "Simplifying the solution using the precomputed factors, $e_0 = e^{\\frac{m{\\Delta v}^2}{2kt_0}}$, $a_0 =-\\frac{e_0 + 2{e_0}^2}{{\\Delta v}^2\\left(e_0 + 4{e_0}^3 + 4{e_0}^2\\right)}$, $a_1 = \\frac{\\left(e_0 + 4{e_0}^2\\right)}{\\left(e_0 + 4{e_0}^3 + 4{e_0}^2\\right)}$\n",
    "\n",
    "$b_0 = \\frac{kt_0\\left(e_0 + 4{e_0}^2 + 4{e_0}^3\\right)}{2m}$, $b_1 = {e_0}^2 + 4{e_0}^3 + 4{e_0}^4$, $b_2 = -{\\Delta v}^2\\left({e_0}^2 + 6{e_0}^3 + 8{e_0}^4\\right)$\n",
    "\n",
    "$c_0 = -\\frac{k{t_0}^2}{2m{\\Delta v}^2}$, $c_1 = {e_0}^3 + 12{e_0}^4 + 60{e_0}^5 + 160{e_0}^6 + 240{e_0}^7 + 192{e_0}^8 + 64{e_0}^9$, $c_2 = -4{\\Delta v}^2\\left({e_0}^4 + 10{e_0}^5 + 40{e_0}^6 + 80{e_0}^7 + 80{e_0}^8 + 32{e_0}^9\\right)$, $c_3 = \\left({e_0}^4 + 10{e_0}^5 + 40{e_0}^6 + 80{e_0}^7 + 80{e_0}^8 + 32{e_0}^9\\right)$, $c_4 = -{\\Delta v}^2\\left({e_0}^4 + 12{e_0}^5 + 56{e_0}^6 + 128{e_0}^7 + 144{e_0}^8 + 64{e_0}^9\\right)$\n",
    "\n",
    "Using the precomputed values the equations for the distribution parameters simplify to,\n",
    "\n",
    "$$A = a_0 M_2 + a_1$$\n",
    "\n",
    "$$v_{x_0} = \\frac{b_0 M_{1_x}}{M_2 b_1 + b_2}$$\n",
    "\n",
    "$$v_{y_0} = \\frac{b_0 M_{1_y}}{M_2 b_1 + b_2}$$\n",
    "\n",
    "$$t = c_0 \\frac{c_1 M_2 + c_2}{c_3 M_2 + c_4}$$\n",
    "\n",
    "$$\\sigma_0 = A\\left(1 - \\frac{m\\vec{v}\\cdot\\vec{v}_0}{kt_0} + \\frac{m \\vec{v}\\cdot\\vec{v}}{2kt_0}\\frac{t}{t_0}\\right)e^{\\frac{m\\vec{v}\\cdot\\vec{v}}{2kt_0}}$$"
   ]
  },
  {
   "cell_type": "code",
   "execution_count": null,
   "metadata": {
    "collapsed": true
   },
   "outputs": [],
   "source": []
  }
 ],
 "metadata": {
  "kernelspec": {
   "display_name": "Python 3",
   "language": "python",
   "name": "python3"
  },
  "language_info": {
   "codemirror_mode": {
    "name": "ipython",
    "version": 3
   },
   "file_extension": ".py",
   "mimetype": "text/x-python",
   "name": "python",
   "nbconvert_exporter": "python",
   "pygments_lexer": "ipython3",
   "version": "3.4.2"
  }
 },
 "nbformat": 4,
 "nbformat_minor": 0
}
