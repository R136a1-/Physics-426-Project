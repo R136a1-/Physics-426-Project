{
 "cells": [
  {
   "cell_type": "code",
   "execution_count": 26,
   "metadata": {
    "collapsed": false
   },
   "outputs": [],
   "source": [
    "import sympy\n",
    "from sympy.physics import vector\n",
    "from IPython.display import display\n",
    "\n",
    "sympy.init_printing(use_latex=\"mathjax\")"
   ]
  },
  {
   "cell_type": "code",
   "execution_count": 27,
   "metadata": {
    "collapsed": false
   },
   "outputs": [],
   "source": [
    "N = vector.ReferenceFrame(\"N\")\n",
    "A, m, k, t, t_0, sigma_0 = sympy.symbols(\"A m k t t_0 \\\\sigma_0\")\n",
    "v_x, v_y, vx_0, vy_0, dv = sympy.symbols(\"v_x v_y v_{x_0} v_{y_0} {\\\\Delta}v\")\n",
    "M1_x, M1_y, M2 = sympy.symbols(\"M_{1_x} M_{1_y} M_2\")\n",
    "v = v_x*N.x + v_y*N.y\n",
    "v_0 = vx_0*N.x + vy_0*N.y\n",
    "M1 = M1_x*N.x + M1_y*N.y\n",
    "sigma = A*sympy.exp(-m*vector.dot(v - v_0, v - v_0)/(2*k*(t - t_0)))\n",
    "\n",
    "def eval_at_zero(expression):\n",
    "    return expression.subs(vx_0, 0.0).subs(vy_0, 0.0).subs(t, 0.0)\n",
    "\n",
    "def taylor(expression, variables = [t, vx_0, vy_0]):\n",
    "    expansion = sympy.simplify(eval_at_zero(expression)/eval_at_zero(expression))\n",
    "    for var in variables:\n",
    "        expansion = expansion + sympy.simplify(eval_at_zero(sympy.diff(expression, var))*var/eval_at_zero(expression))\n",
    "        \n",
    "#    for var1 in variables:\n",
    "#        for var2 in variables:\n",
    "#            expansion = expansion + sympy.simplify(eval_at_zero(sympy.diff(sympy.diff(expression, var1), var2))*var1*var2/(2*eval_at_zero(expression)))\n",
    "    return expansion*eval_at_zero(expression)\n",
    "\n",
    "def zeroeth_moments(expression, vrange=[-dv, 0.0, dv]):\n",
    "    moment = m -m\n",
    "    for vx in vrange:\n",
    "        for vy in vrange:\n",
    "            moment = moment + (expression).subs(v_x, vx).subs(v_y, vy)\n",
    "    return sympy.simplify(moment)\n",
    "\n",
    "    \n",
    "def first_moments(expression, vrange=[-dv, 0.0, dv]):\n",
    "    moment = v - v\n",
    "    for vx in vrange:\n",
    "        for vy in vrange:\n",
    "            moment = moment + (v*expression).subs(v_x, vx).subs(v_y, vy)\n",
    "    return moment.simplify()\n",
    "\n",
    "    \n",
    "def second_moments(expression, vrange=[-dv, 0.0, dv]):\n",
    "    moment = m - m\n",
    "    for vx in vrange:\n",
    "        for vy in vrange:\n",
    "            moment = moment + (vector.dot(v, v)*expression).subs(v_x, vx).subs(v_y, vy)\n",
    "    return sympy.simplify(moment)"
   ]
  },
  {
   "cell_type": "code",
   "execution_count": 28,
   "metadata": {
    "collapsed": false
   },
   "outputs": [
    {
     "data": {
      "text/latex": [
       "$$A \\left(1 + \\frac{m t \\left(v_{x}^{2} + v_{y}^{2}\\right)}{2 k t_{0}^{2}} - \\frac{m v_{x} v_{x_0}}{k t_{0}} - \\frac{m v_{y} v_{y_0}}{k t_{0}}\\right) e^{\\frac{m \\left(v_{x}^{2} + v_{y}^{2}\\right)}{2 k t_{0}}}$$"
      ],
      "text/plain": [
       "                                                           ⎛  2      2⎞\n",
       "                                                         m⋅⎝vₓ  + v_y ⎠\n",
       "  ⎛        ⎛  2      2⎞                               ⎞  ──────────────\n",
       "  ⎜    m⋅t⋅⎝vₓ  + v_y ⎠   m⋅vₓ⋅v_{x_0}   m⋅v_y⋅v_{y_0}⎟      2⋅k⋅t₀    \n",
       "A⋅⎜1 + ──────────────── - ──────────── - ─────────────⎟⋅ℯ              \n",
       "  ⎜              2            k⋅t₀            k⋅t₀    ⎟                \n",
       "  ⎝        2⋅k⋅t₀                                     ⎠                "
      ]
     },
     "execution_count": 28,
     "metadata": {},
     "output_type": "execute_result"
    }
   ],
   "source": [
    "linearization = taylor(sigma)\n",
    "linearization"
   ]
  },
  {
   "cell_type": "code",
   "execution_count": 29,
   "metadata": {
    "collapsed": false
   },
   "outputs": [
    {
     "data": {
      "text/latex": [
       "$$4 A e^{\\frac{m {\\Delta}v^{2}}{2 k t_{0}}} + 4 A e^{\\frac{m {\\Delta}v^{2}}{k t_{0}}} + A + \\frac{2 A m t}{k t_{0}^{2}} {\\Delta}v^{2} e^{\\frac{m {\\Delta}v^{2}}{2 k t_{0}}} + \\frac{4 A m t}{k t_{0}^{2}} {\\Delta}v^{2} e^{\\frac{m {\\Delta}v^{2}}{k t_{0}}} - 1$$"
      ],
      "text/plain": [
       "                                                                           2  \n",
       "                2                   2                           m⋅{\\Delta}v   \n",
       "     m⋅{\\Delta}v         m⋅{\\Delta}v                            ────────────  \n",
       "     ────────────        ────────────                        2     2⋅k⋅t₀     \n",
       "        2⋅k⋅t₀               k⋅t₀           2⋅A⋅m⋅t⋅{\\Delta}v ⋅ℯ              \n",
       "4⋅A⋅ℯ             + 4⋅A⋅ℯ             + A + ──────────────────────────────── +\n",
       "                                                             2                \n",
       "                                                         k⋅t₀                 \n",
       "\n",
       "                                2    \n",
       "                     m⋅{\\Delta}v     \n",
       "                     ────────────    \n",
       "                  2      k⋅t₀        \n",
       " 4⋅A⋅m⋅t⋅{\\Delta}v ⋅ℯ                \n",
       " ──────────────────────────────── - 1\n",
       "                  2                  \n",
       "              k⋅t₀                   "
      ]
     },
     "execution_count": 29,
     "metadata": {},
     "output_type": "execute_result"
    }
   ],
   "source": [
    "zmoment = zeroeth_moments(linearization) - 1\n",
    "zmoment"
   ]
  },
  {
   "cell_type": "code",
   "execution_count": 30,
   "metadata": {
    "collapsed": false,
    "scrolled": true
   },
   "outputs": [
    {
     "data": {
      "text/latex": [
       "$$(- \\frac{2 A m v_{x_0}}{k t_{0}} {\\Delta}v^{2} \\left(e^{\\frac{m {\\Delta}v^{2}}{2 k t_{0}}} + 2 e^{\\frac{m {\\Delta}v^{2}}{k t_{0}}}\\right) - M_{1_x})\\mathbf{\\hat{n}_x} + (- \\frac{2 A m v_{y_0}}{k t_{0}} {\\Delta}v^{2} \\left(e^{\\frac{m {\\Delta}v^{2}}{2 k t_{0}}} + 2 e^{\\frac{m {\\Delta}v^{2}}{k t_{0}}}\\right) - M_{1_y})\\mathbf{\\hat{n}_y}$$"
      ],
      "text/plain": [
       "⎛                           ⎛            2                 2⎞          ⎞\n",
       "⎜                           ⎜ m⋅{\\Delta}v       m⋅{\\Delta}v ⎟          ⎟\n",
       "⎜                           ⎜ ────────────      ────────────⎟          ⎟\n",
       "⎜                         2 ⎜    2⋅k⋅t₀             k⋅t₀    ⎟          ⎟\n",
       "⎜  2⋅A⋅m⋅v_{x_0}⋅{\\Delta}v ⋅⎝ℯ             + 2⋅ℯ            ⎠          ⎟\n",
       "⎜- ────────────────────────────────────────────────────────── - M_{1_x}⎟\n",
       "⎝                             k⋅t₀                                     ⎠ n_x + ⎛                           ⎛            2                 2⎞          ⎞\n",
       "⎜                           ⎜ m⋅{\\Delta}v       m⋅{\\Delta}v ⎟          ⎟\n",
       "⎜                           ⎜ ────────────      ────────────⎟          ⎟\n",
       "⎜                         2 ⎜    2⋅k⋅t₀             k⋅t₀    ⎟          ⎟\n",
       "⎜  2⋅A⋅m⋅v_{y_0}⋅{\\Delta}v ⋅⎝ℯ             + 2⋅ℯ            ⎠          ⎟\n",
       "⎜- ────────────────────────────────────────────────────────── - M_{1_y}⎟\n",
       "⎝                             k⋅t₀                                     ⎠ n_y"
      ]
     },
     "execution_count": 30,
     "metadata": {},
     "output_type": "execute_result"
    }
   ],
   "source": [
    "fmoment = first_moments(linearization) - M1\n",
    "fmoment"
   ]
  },
  {
   "cell_type": "code",
   "execution_count": 31,
   "metadata": {
    "collapsed": false
   },
   "outputs": [
    {
     "data": {
      "text/latex": [
       "$$\\frac{2 A {\\Delta}v^{2}}{k t_{0}^{2}} \\left(2 k t_{0}^{2} e^{\\frac{m {\\Delta}v^{2}}{2 k t_{0}}} + 4 k t_{0}^{2} e^{\\frac{m {\\Delta}v^{2}}{k t_{0}}} + m t {\\Delta}v^{2} e^{\\frac{m {\\Delta}v^{2}}{2 k t_{0}}} + 4 m t {\\Delta}v^{2} e^{\\frac{m {\\Delta}v^{2}}{k t_{0}}}\\right) - M_{2}$$"
      ],
      "text/plain": [
       "               ⎛                    2                       2                 \n",
       "               ⎜         m⋅{\\Delta}v             m⋅{\\Delta}v                  \n",
       "               ⎜         ────────────            ────────────                 \n",
       "             2 ⎜      2     2⋅k⋅t₀            2      k⋅t₀                    2\n",
       "2⋅A⋅{\\Delta}v ⋅⎝2⋅k⋅t₀ ⋅ℯ             + 4⋅k⋅t₀ ⋅ℯ             + m⋅t⋅{\\Delta}v \n",
       "──────────────────────────────────────────────────────────────────────────────\n",
       "                                                                2             \n",
       "                                                            k⋅t₀              \n",
       "\n",
       "             2                                2⎞     \n",
       "  m⋅{\\Delta}v                      m⋅{\\Delta}v ⎟     \n",
       "  ────────────                     ────────────⎟     \n",
       "     2⋅k⋅t₀                     2      k⋅t₀    ⎟     \n",
       "⋅ℯ             + 4⋅m⋅t⋅{\\Delta}v ⋅ℯ            ⎠     \n",
       "──────────────────────────────────────────────── - M₂\n",
       "                                                     \n",
       "                                                     "
      ]
     },
     "execution_count": 31,
     "metadata": {},
     "output_type": "execute_result"
    }
   ],
   "source": [
    "smoment = second_moments(linearization) - M2\n",
    "smoment"
   ]
  },
  {
   "cell_type": "code",
   "execution_count": 32,
   "metadata": {
    "collapsed": false
   },
   "outputs": [],
   "source": [
    "System_solution = sympy.solve([zmoment, fmoment.dot(N.x), fmoment.dot(N.y), smoment], (A, v_0.dot(N.x), v_0.dot(N.y), t), dict=True)\n",
    "Asol, vxsol, vysol, tsol = System_solution[0][A], System_solution[0][v_0.dot(N.x)], System_solution[0][v_0.dot(N.y)], System_solution[0][t]"
   ]
  },
  {
   "cell_type": "code",
   "execution_count": 33,
   "metadata": {
    "collapsed": false,
    "scrolled": false
   },
   "outputs": [
    {
     "data": {
      "text/latex": [
       "$$A = \\frac{- M_{2} e^{\\frac{m {\\Delta}v^{2}}{2 k t_{0}}} - 2 M_{2} e^{\\frac{m {\\Delta}v^{2}}{k t_{0}}} + {\\Delta}v^{2} e^{\\frac{m {\\Delta}v^{2}}{2 k t_{0}}} + 4 {\\Delta}v^{2} e^{\\frac{m {\\Delta}v^{2}}{k t_{0}}}}{{\\Delta}v^{2} \\left(4 e^{\\frac{3 m {\\Delta}v^{2}}{2 k t_{0}}} + e^{\\frac{m {\\Delta}v^{2}}{2 k t_{0}}} + 4 e^{\\frac{m {\\Delta}v^{2}}{k t_{0}}}\\right)}$$"
      ],
      "text/plain": [
       "                     2                    2                          2        \n",
       "          m⋅{\\Delta}v          m⋅{\\Delta}v                m⋅{\\Delta}v         \n",
       "          ────────────         ────────────               ────────────        \n",
       "             2⋅k⋅t₀                k⋅t₀                2     2⋅k⋅t₀           \n",
       "    - M₂⋅ℯ             - 2⋅M₂⋅ℯ             + {\\Delta}v ⋅ℯ             + 4⋅{\\D\n",
       "A = ──────────────────────────────────────────────────────────────────────────\n",
       "                               ⎛                2               2             \n",
       "                               ⎜   3⋅m⋅{\\Delta}v     m⋅{\\Delta}v       m⋅{\\Del\n",
       "                               ⎜   ──────────────    ────────────      ───────\n",
       "                             2 ⎜       2⋅k⋅t₀           2⋅k⋅t₀             k⋅t\n",
       "                    {\\Delta}v ⋅⎝4⋅ℯ               + ℯ             + 4⋅ℯ       \n",
       "\n",
       "                    2\n",
       "         m⋅{\\Delta}v \n",
       "         ────────────\n",
       "      2      k⋅t₀    \n",
       "elta}v ⋅ℯ            \n",
       "─────────────────────\n",
       "    2⎞               \n",
       "ta}v ⎟               \n",
       "─────⎟               \n",
       "₀    ⎟               \n",
       "     ⎠               "
      ]
     },
     "metadata": {},
     "output_type": "display_data"
    },
    {
     "data": {
      "text/latex": [
       "$$v_{x_0} = \\frac{M_{1_x} k t_{0} \\left(4 e^{\\frac{3 m {\\Delta}v^{2}}{2 k t_{0}}} + e^{\\frac{m {\\Delta}v^{2}}{2 k t_{0}}} + 4 e^{\\frac{m {\\Delta}v^{2}}{k t_{0}}}\\right)}{2 m \\left(4 M_{2} e^{\\frac{3 m {\\Delta}v^{2}}{2 k t_{0}}} + 4 M_{2} e^{\\frac{2 m {\\Delta}v^{2}}{k t_{0}}} + M_{2} e^{\\frac{m {\\Delta}v^{2}}{k t_{0}}} - 6 {\\Delta}v^{2} e^{\\frac{3 m {\\Delta}v^{2}}{2 k t_{0}}} - 8 {\\Delta}v^{2} e^{\\frac{2 m {\\Delta}v^{2}}{k t_{0}}} - {\\Delta}v^{2} e^{\\frac{m {\\Delta}v^{2}}{k t_{0}}}\\right)}$$"
      ],
      "text/plain": [
       "                                                                     ⎛        \n",
       "                                                                     ⎜   3⋅m⋅{\n",
       "                                                                     ⎜   ─────\n",
       "                                                                     ⎜       2\n",
       "                                                        M_{1_x}⋅k⋅t₀⋅⎝4⋅ℯ     \n",
       "v_{x_0} = ────────────────────────────────────────────────────────────────────\n",
       "              ⎛                   2                      2                  2 \n",
       "              ⎜      3⋅m⋅{\\Delta}v          2⋅m⋅{\\Delta}v        m⋅{\\Delta}v  \n",
       "              ⎜      ──────────────         ──────────────       ──────────── \n",
       "              ⎜          2⋅k⋅t₀                  k⋅t₀                k⋅t₀     \n",
       "          2⋅m⋅⎝4⋅M₂⋅ℯ               + 4⋅M₂⋅ℯ               + M₂⋅ℯ             \n",
       "\n",
       "        2               2                 2⎞                                  \n",
       "\\Delta}v     m⋅{\\Delta}v       m⋅{\\Delta}v ⎟                                  \n",
       "─────────    ────────────      ────────────⎟                                  \n",
       "⋅k⋅t₀           2⋅k⋅t₀             k⋅t₀    ⎟                                  \n",
       "          + ℯ             + 4⋅ℯ            ⎠                                  \n",
       "──────────────────────────────────────────────────────────────────────────────\n",
       "                             2                              2                 \n",
       "                3⋅m⋅{\\Delta}v                  2⋅m⋅{\\Delta}v                m⋅\n",
       "                ──────────────                 ──────────────               ──\n",
       "             2      2⋅k⋅t₀                  2       k⋅t₀                 2    \n",
       "- 6⋅{\\Delta}v ⋅ℯ               - 8⋅{\\Delta}v ⋅ℯ               - {\\Delta}v ⋅ℯ  \n",
       "\n",
       "           \n",
       "           \n",
       "           \n",
       "           \n",
       "           \n",
       "───────────\n",
       "         2⎞\n",
       "{\\Delta}v ⎟\n",
       "──────────⎟\n",
       "  k⋅t₀    ⎟\n",
       "          ⎠"
      ]
     },
     "metadata": {},
     "output_type": "display_data"
    },
    {
     "data": {
      "text/latex": [
       "$$v_{y_0} = \\frac{M_{1_y} k t_{0} \\left(4 e^{\\frac{3 m {\\Delta}v^{2}}{2 k t_{0}}} + e^{\\frac{m {\\Delta}v^{2}}{2 k t_{0}}} + 4 e^{\\frac{m {\\Delta}v^{2}}{k t_{0}}}\\right)}{2 m \\left(4 M_{2} e^{\\frac{3 m {\\Delta}v^{2}}{2 k t_{0}}} + 4 M_{2} e^{\\frac{2 m {\\Delta}v^{2}}{k t_{0}}} + M_{2} e^{\\frac{m {\\Delta}v^{2}}{k t_{0}}} - 6 {\\Delta}v^{2} e^{\\frac{3 m {\\Delta}v^{2}}{2 k t_{0}}} - 8 {\\Delta}v^{2} e^{\\frac{2 m {\\Delta}v^{2}}{k t_{0}}} - {\\Delta}v^{2} e^{\\frac{m {\\Delta}v^{2}}{k t_{0}}}\\right)}$$"
      ],
      "text/plain": [
       "                                                                     ⎛        \n",
       "                                                                     ⎜   3⋅m⋅{\n",
       "                                                                     ⎜   ─────\n",
       "                                                                     ⎜       2\n",
       "                                                        M_{1_y}⋅k⋅t₀⋅⎝4⋅ℯ     \n",
       "v_{y_0} = ────────────────────────────────────────────────────────────────────\n",
       "              ⎛                   2                      2                  2 \n",
       "              ⎜      3⋅m⋅{\\Delta}v          2⋅m⋅{\\Delta}v        m⋅{\\Delta}v  \n",
       "              ⎜      ──────────────         ──────────────       ──────────── \n",
       "              ⎜          2⋅k⋅t₀                  k⋅t₀                k⋅t₀     \n",
       "          2⋅m⋅⎝4⋅M₂⋅ℯ               + 4⋅M₂⋅ℯ               + M₂⋅ℯ             \n",
       "\n",
       "        2               2                 2⎞                                  \n",
       "\\Delta}v     m⋅{\\Delta}v       m⋅{\\Delta}v ⎟                                  \n",
       "─────────    ────────────      ────────────⎟                                  \n",
       "⋅k⋅t₀           2⋅k⋅t₀             k⋅t₀    ⎟                                  \n",
       "          + ℯ             + 4⋅ℯ            ⎠                                  \n",
       "──────────────────────────────────────────────────────────────────────────────\n",
       "                             2                              2                 \n",
       "                3⋅m⋅{\\Delta}v                  2⋅m⋅{\\Delta}v                m⋅\n",
       "                ──────────────                 ──────────────               ──\n",
       "             2      2⋅k⋅t₀                  2       k⋅t₀                 2    \n",
       "- 6⋅{\\Delta}v ⋅ℯ               - 8⋅{\\Delta}v ⋅ℯ               - {\\Delta}v ⋅ℯ  \n",
       "\n",
       "           \n",
       "           \n",
       "           \n",
       "           \n",
       "           \n",
       "───────────\n",
       "         2⎞\n",
       "{\\Delta}v ⎟\n",
       "──────────⎟\n",
       "  k⋅t₀    ⎟\n",
       "          ⎠"
      ]
     },
     "metadata": {},
     "output_type": "display_data"
    },
    {
     "data": {
      "text/latex": [
       "$$t = - \\frac{k t_{0}^{2} \\left(64 M_{2} e^{\\frac{9 m {\\Delta}v^{2}}{2 k t_{0}}} + 240 M_{2} e^{\\frac{7 m {\\Delta}v^{2}}{2 k t_{0}}} + 60 M_{2} e^{\\frac{5 m {\\Delta}v^{2}}{2 k t_{0}}} + M_{2} e^{\\frac{3 m {\\Delta}v^{2}}{2 k t_{0}}} + 192 M_{2} e^{\\frac{4 m {\\Delta}v^{2}}{k t_{0}}} + 160 M_{2} e^{\\frac{3 m {\\Delta}v^{2}}{k t_{0}}} + 12 M_{2} e^{\\frac{2 m {\\Delta}v^{2}}{k t_{0}}} - 128 {\\Delta}v^{2} e^{\\frac{9 m {\\Delta}v^{2}}{2 k t_{0}}} - 320 {\\Delta}v^{2} e^{\\frac{7 m {\\Delta}v^{2}}{2 k t_{0}}} - 40 {\\Delta}v^{2} e^{\\frac{5 m {\\Delta}v^{2}}{2 k t_{0}}} - 320 {\\Delta}v^{2} e^{\\frac{4 m {\\Delta}v^{2}}{k t_{0}}} - 160 {\\Delta}v^{2} e^{\\frac{3 m {\\Delta}v^{2}}{k t_{0}}} - 4 {\\Delta}v^{2} e^{\\frac{2 m {\\Delta}v^{2}}{k t_{0}}}\\right)}{2 m {\\Delta}v^{2} \\left(32 M_{2} e^{\\frac{9 m {\\Delta}v^{2}}{2 k t_{0}}} + 80 M_{2} e^{\\frac{7 m {\\Delta}v^{2}}{2 k t_{0}}} + 10 M_{2} e^{\\frac{5 m {\\Delta}v^{2}}{2 k t_{0}}} + 80 M_{2} e^{\\frac{4 m {\\Delta}v^{2}}{k t_{0}}} + 40 M_{2} e^{\\frac{3 m {\\Delta}v^{2}}{k t_{0}}} + M_{2} e^{\\frac{2 m {\\Delta}v^{2}}{k t_{0}}} - 64 {\\Delta}v^{2} e^{\\frac{9 m {\\Delta}v^{2}}{2 k t_{0}}} - 128 {\\Delta}v^{2} e^{\\frac{7 m {\\Delta}v^{2}}{2 k t_{0}}} - 12 {\\Delta}v^{2} e^{\\frac{5 m {\\Delta}v^{2}}{2 k t_{0}}} - 144 {\\Delta}v^{2} e^{\\frac{4 m {\\Delta}v^{2}}{k t_{0}}} - 56 {\\Delta}v^{2} e^{\\frac{3 m {\\Delta}v^{2}}{k t_{0}}} - {\\Delta}v^{2} e^{\\frac{2 m {\\Delta}v^{2}}{k t_{0}}}\\right)}$$"
      ],
      "text/plain": [
       "           ⎛                    2                        2                    \n",
       "           ⎜       9⋅m⋅{\\Delta}v            7⋅m⋅{\\Delta}v           5⋅m⋅{\\Delt\n",
       "           ⎜       ──────────────           ──────────────          ──────────\n",
       "         2 ⎜           2⋅k⋅t₀                   2⋅k⋅t₀                  2⋅k⋅t₀\n",
       "    -k⋅t₀ ⋅⎝64⋅M₂⋅ℯ               + 240⋅M₂⋅ℯ               + 60⋅M₂⋅ℯ          \n",
       "t = ──────────────────────────────────────────────────────────────────────────\n",
       "                               ⎛                    2                       2 \n",
       "                               ⎜       9⋅m⋅{\\Delta}v           7⋅m⋅{\\Delta}v  \n",
       "                               ⎜       ──────────────          ────────────── \n",
       "                             2 ⎜           2⋅k⋅t₀                  2⋅k⋅t₀     \n",
       "                2⋅m⋅{\\Delta}v ⋅⎝32⋅M₂⋅ℯ               + 80⋅M₂⋅ℯ               \n",
       "\n",
       "   2                    2                        2                        2   \n",
       "a}v        3⋅m⋅{\\Delta}v            4⋅m⋅{\\Delta}v            3⋅m⋅{\\Delta}v    \n",
       "────       ──────────────           ──────────────           ──────────────   \n",
       "               2⋅k⋅t₀                    k⋅t₀                     k⋅t₀        \n",
       "     + M₂⋅ℯ               + 192⋅M₂⋅ℯ               + 160⋅M₂⋅ℯ               + \n",
       "──────────────────────────────────────────────────────────────────────────────\n",
       "                      2                       2                       2       \n",
       "         5⋅m⋅{\\Delta}v           4⋅m⋅{\\Delta}v           3⋅m⋅{\\Delta}v        \n",
       "         ──────────────          ──────────────          ──────────────       \n",
       "             2⋅k⋅t₀                   k⋅t₀                    k⋅t₀            \n",
       "+ 10⋅M₂⋅ℯ               + 80⋅M₂⋅ℯ               + 40⋅M₂⋅ℯ               + M₂⋅ℯ\n",
       "\n",
       "                    2                                2                        \n",
       "       2⋅m⋅{\\Delta}v                    9⋅m⋅{\\Delta}v                    7⋅m⋅{\n",
       "       ──────────────                   ──────────────                   ─────\n",
       "            k⋅t₀                     2      2⋅k⋅t₀                    2      2\n",
       "12⋅M₂⋅ℯ               - 128⋅{\\Delta}v ⋅ℯ               - 320⋅{\\Delta}v ⋅ℯ     \n",
       "──────────────────────────────────────────────────────────────────────────────\n",
       "             2                               2                                \n",
       "2⋅m⋅{\\Delta}v                   9⋅m⋅{\\Delta}v                    7⋅m⋅{\\Delta}v\n",
       "──────────────                  ──────────────                   ─────────────\n",
       "     k⋅t₀                    2      2⋅k⋅t₀                    2      2⋅k⋅t₀   \n",
       "               - 64⋅{\\Delta}v ⋅ℯ               - 128⋅{\\Delta}v ⋅ℯ             \n",
       "\n",
       "        2                               2                                2    \n",
       "\\Delta}v                   5⋅m⋅{\\Delta}v                    4⋅m⋅{\\Delta}v     \n",
       "─────────                  ──────────────                   ──────────────    \n",
       "⋅k⋅t₀                   2      2⋅k⋅t₀                    2       k⋅t₀         \n",
       "          - 40⋅{\\Delta}v ⋅ℯ               - 320⋅{\\Delta}v ⋅ℯ               - 1\n",
       "──────────────────────────────────────────────────────────────────────────────\n",
       "2                               2                                2            \n",
       "                   5⋅m⋅{\\Delta}v                    4⋅m⋅{\\Delta}v             \n",
       "─                  ──────────────                   ──────────────            \n",
       "                2      2⋅k⋅t₀                    2       k⋅t₀                 \n",
       "  - 12⋅{\\Delta}v ⋅ℯ               - 144⋅{\\Delta}v ⋅ℯ               - 56⋅{\\Delt\n",
       "\n",
       "                            2                              2⎞ \n",
       "               3⋅m⋅{\\Delta}v                  2⋅m⋅{\\Delta}v ⎟ \n",
       "               ──────────────                 ──────────────⎟ \n",
       "            2       k⋅t₀                   2       k⋅t₀     ⎟ \n",
       "60⋅{\\Delta}v ⋅ℯ               - 4⋅{\\Delta}v ⋅ℯ              ⎠ \n",
       "──────────────────────────────────────────────────────────────\n",
       "                   2                            2⎞            \n",
       "      3⋅m⋅{\\Delta}v                2⋅m⋅{\\Delta}v ⎟            \n",
       "      ──────────────               ──────────────⎟            \n",
       "   2       k⋅t₀                 2       k⋅t₀     ⎟            \n",
       "a}v ⋅ℯ               - {\\Delta}v ⋅ℯ              ⎠            "
      ]
     },
     "metadata": {},
     "output_type": "display_data"
    },
    {
     "data": {
      "text/latex": [
       "$$\\sigma_0 = A \\left(1 + \\frac{m t \\left(v_{x}^{2} + v_{y}^{2}\\right)}{2 k t_{0}^{2}} - \\frac{m v_{x} v_{x_0}}{k t_{0}} - \\frac{m v_{y} v_{y_0}}{k t_{0}}\\right) e^{\\frac{m \\left(v_{x}^{2} + v_{y}^{2}\\right)}{2 k t_{0}}}$$"
      ],
      "text/plain": [
       "                                                                     ⎛  2     \n",
       "                                                                   m⋅⎝vₓ  + v_\n",
       "            ⎛        ⎛  2      2⎞                               ⎞  ───────────\n",
       "            ⎜    m⋅t⋅⎝vₓ  + v_y ⎠   m⋅vₓ⋅v_{x_0}   m⋅v_y⋅v_{y_0}⎟      2⋅k⋅t₀ \n",
       "\\sigma₀ = A⋅⎜1 + ──────────────── - ──────────── - ─────────────⎟⋅ℯ           \n",
       "            ⎜              2            k⋅t₀            k⋅t₀    ⎟             \n",
       "            ⎝        2⋅k⋅t₀                                     ⎠             \n",
       "\n",
       " 2⎞\n",
       "y ⎠\n",
       "───\n",
       "   \n",
       "   \n",
       "   \n",
       "   "
      ]
     },
     "metadata": {},
     "output_type": "display_data"
    }
   ],
   "source": [
    "display(sympy.Eq(A, Asol))\n",
    "display(sympy.Eq(v_0.dot(N.x), vxsol))\n",
    "display(sympy.Eq(v_0.dot(N.y), vysol))\n",
    "display(sympy.Eq(t, tsol))\n",
    "display(sympy.Eq(sigma_0,linearization))"
   ]
  },
  {
   "cell_type": "code",
   "execution_count": null,
   "metadata": {
    "collapsed": true
   },
   "outputs": [],
   "source": []
  }
 ],
 "metadata": {
  "kernelspec": {
   "display_name": "Python 3",
   "language": "python",
   "name": "python3"
  },
  "language_info": {
   "codemirror_mode": {
    "name": "ipython",
    "version": 3
   },
   "file_extension": ".py",
   "mimetype": "text/x-python",
   "name": "python",
   "nbconvert_exporter": "python",
   "pygments_lexer": "ipython3",
   "version": "3.4.2"
  }
 },
 "nbformat": 4,
 "nbformat_minor": 0
}
